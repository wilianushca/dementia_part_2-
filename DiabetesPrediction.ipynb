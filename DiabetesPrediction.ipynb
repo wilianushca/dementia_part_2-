{
 "cells": [
  {
   "cell_type": "code",
   "execution_count": 7,
   "metadata": {},
   "outputs": [
    {
     "ename": "FileNotFoundError",
     "evalue": "[Errno 2] No such file or directory: 'Resources/dementia_patients_health_data.csv'",
     "output_type": "error",
     "traceback": [
      "\u001b[0;31m---------------------------------------------------------------------------\u001b[0m",
      "\u001b[0;31mFileNotFoundError\u001b[0m                         Traceback (most recent call last)",
      "Cell \u001b[0;32mIn[7], line 4\u001b[0m\n\u001b[1;32m      1\u001b[0m \u001b[38;5;28;01mimport\u001b[39;00m \u001b[38;5;21;01mpandas\u001b[39;00m \u001b[38;5;28;01mas\u001b[39;00m \u001b[38;5;21;01mpd\u001b[39;00m\n\u001b[1;32m      2\u001b[0m \u001b[38;5;28;01mimport\u001b[39;00m \u001b[38;5;21;01mmatplotlib\u001b[39;00m\u001b[38;5;21;01m.\u001b[39;00m\u001b[38;5;21;01mpyplot\u001b[39;00m \u001b[38;5;28;01mas\u001b[39;00m \u001b[38;5;21;01mplt\u001b[39;00m\n\u001b[0;32m----> 4\u001b[0m df \u001b[38;5;241m=\u001b[39m \u001b[43mpd\u001b[49m\u001b[38;5;241;43m.\u001b[39;49m\u001b[43mread_csv\u001b[49m\u001b[43m(\u001b[49m\u001b[38;5;124;43m\"\u001b[39;49m\u001b[38;5;124;43mResources/dementia_patients_health_data.csv\u001b[39;49m\u001b[38;5;124;43m\"\u001b[39;49m\u001b[43m)\u001b[49m\n\u001b[1;32m      5\u001b[0m df\u001b[38;5;241m.\u001b[39mhead()\n",
      "File \u001b[0;32m~/anaconda3/envs/PythonData_2023_08/lib/python3.10/site-packages/pandas/io/parsers/readers.py:948\u001b[0m, in \u001b[0;36mread_csv\u001b[0;34m(filepath_or_buffer, sep, delimiter, header, names, index_col, usecols, dtype, engine, converters, true_values, false_values, skipinitialspace, skiprows, skipfooter, nrows, na_values, keep_default_na, na_filter, verbose, skip_blank_lines, parse_dates, infer_datetime_format, keep_date_col, date_parser, date_format, dayfirst, cache_dates, iterator, chunksize, compression, thousands, decimal, lineterminator, quotechar, quoting, doublequote, escapechar, comment, encoding, encoding_errors, dialect, on_bad_lines, delim_whitespace, low_memory, memory_map, float_precision, storage_options, dtype_backend)\u001b[0m\n\u001b[1;32m    935\u001b[0m kwds_defaults \u001b[38;5;241m=\u001b[39m _refine_defaults_read(\n\u001b[1;32m    936\u001b[0m     dialect,\n\u001b[1;32m    937\u001b[0m     delimiter,\n\u001b[0;32m   (...)\u001b[0m\n\u001b[1;32m    944\u001b[0m     dtype_backend\u001b[38;5;241m=\u001b[39mdtype_backend,\n\u001b[1;32m    945\u001b[0m )\n\u001b[1;32m    946\u001b[0m kwds\u001b[38;5;241m.\u001b[39mupdate(kwds_defaults)\n\u001b[0;32m--> 948\u001b[0m \u001b[38;5;28;01mreturn\u001b[39;00m \u001b[43m_read\u001b[49m\u001b[43m(\u001b[49m\u001b[43mfilepath_or_buffer\u001b[49m\u001b[43m,\u001b[49m\u001b[43m \u001b[49m\u001b[43mkwds\u001b[49m\u001b[43m)\u001b[49m\n",
      "File \u001b[0;32m~/anaconda3/envs/PythonData_2023_08/lib/python3.10/site-packages/pandas/io/parsers/readers.py:611\u001b[0m, in \u001b[0;36m_read\u001b[0;34m(filepath_or_buffer, kwds)\u001b[0m\n\u001b[1;32m    608\u001b[0m _validate_names(kwds\u001b[38;5;241m.\u001b[39mget(\u001b[38;5;124m\"\u001b[39m\u001b[38;5;124mnames\u001b[39m\u001b[38;5;124m\"\u001b[39m, \u001b[38;5;28;01mNone\u001b[39;00m))\n\u001b[1;32m    610\u001b[0m \u001b[38;5;66;03m# Create the parser.\u001b[39;00m\n\u001b[0;32m--> 611\u001b[0m parser \u001b[38;5;241m=\u001b[39m \u001b[43mTextFileReader\u001b[49m\u001b[43m(\u001b[49m\u001b[43mfilepath_or_buffer\u001b[49m\u001b[43m,\u001b[49m\u001b[43m \u001b[49m\u001b[38;5;241;43m*\u001b[39;49m\u001b[38;5;241;43m*\u001b[39;49m\u001b[43mkwds\u001b[49m\u001b[43m)\u001b[49m\n\u001b[1;32m    613\u001b[0m \u001b[38;5;28;01mif\u001b[39;00m chunksize \u001b[38;5;129;01mor\u001b[39;00m iterator:\n\u001b[1;32m    614\u001b[0m     \u001b[38;5;28;01mreturn\u001b[39;00m parser\n",
      "File \u001b[0;32m~/anaconda3/envs/PythonData_2023_08/lib/python3.10/site-packages/pandas/io/parsers/readers.py:1448\u001b[0m, in \u001b[0;36mTextFileReader.__init__\u001b[0;34m(self, f, engine, **kwds)\u001b[0m\n\u001b[1;32m   1445\u001b[0m     \u001b[38;5;28mself\u001b[39m\u001b[38;5;241m.\u001b[39moptions[\u001b[38;5;124m\"\u001b[39m\u001b[38;5;124mhas_index_names\u001b[39m\u001b[38;5;124m\"\u001b[39m] \u001b[38;5;241m=\u001b[39m kwds[\u001b[38;5;124m\"\u001b[39m\u001b[38;5;124mhas_index_names\u001b[39m\u001b[38;5;124m\"\u001b[39m]\n\u001b[1;32m   1447\u001b[0m \u001b[38;5;28mself\u001b[39m\u001b[38;5;241m.\u001b[39mhandles: IOHandles \u001b[38;5;241m|\u001b[39m \u001b[38;5;28;01mNone\u001b[39;00m \u001b[38;5;241m=\u001b[39m \u001b[38;5;28;01mNone\u001b[39;00m\n\u001b[0;32m-> 1448\u001b[0m \u001b[38;5;28mself\u001b[39m\u001b[38;5;241m.\u001b[39m_engine \u001b[38;5;241m=\u001b[39m \u001b[38;5;28;43mself\u001b[39;49m\u001b[38;5;241;43m.\u001b[39;49m\u001b[43m_make_engine\u001b[49m\u001b[43m(\u001b[49m\u001b[43mf\u001b[49m\u001b[43m,\u001b[49m\u001b[43m \u001b[49m\u001b[38;5;28;43mself\u001b[39;49m\u001b[38;5;241;43m.\u001b[39;49m\u001b[43mengine\u001b[49m\u001b[43m)\u001b[49m\n",
      "File \u001b[0;32m~/anaconda3/envs/PythonData_2023_08/lib/python3.10/site-packages/pandas/io/parsers/readers.py:1705\u001b[0m, in \u001b[0;36mTextFileReader._make_engine\u001b[0;34m(self, f, engine)\u001b[0m\n\u001b[1;32m   1703\u001b[0m     \u001b[38;5;28;01mif\u001b[39;00m \u001b[38;5;124m\"\u001b[39m\u001b[38;5;124mb\u001b[39m\u001b[38;5;124m\"\u001b[39m \u001b[38;5;129;01mnot\u001b[39;00m \u001b[38;5;129;01min\u001b[39;00m mode:\n\u001b[1;32m   1704\u001b[0m         mode \u001b[38;5;241m+\u001b[39m\u001b[38;5;241m=\u001b[39m \u001b[38;5;124m\"\u001b[39m\u001b[38;5;124mb\u001b[39m\u001b[38;5;124m\"\u001b[39m\n\u001b[0;32m-> 1705\u001b[0m \u001b[38;5;28mself\u001b[39m\u001b[38;5;241m.\u001b[39mhandles \u001b[38;5;241m=\u001b[39m \u001b[43mget_handle\u001b[49m\u001b[43m(\u001b[49m\n\u001b[1;32m   1706\u001b[0m \u001b[43m    \u001b[49m\u001b[43mf\u001b[49m\u001b[43m,\u001b[49m\n\u001b[1;32m   1707\u001b[0m \u001b[43m    \u001b[49m\u001b[43mmode\u001b[49m\u001b[43m,\u001b[49m\n\u001b[1;32m   1708\u001b[0m \u001b[43m    \u001b[49m\u001b[43mencoding\u001b[49m\u001b[38;5;241;43m=\u001b[39;49m\u001b[38;5;28;43mself\u001b[39;49m\u001b[38;5;241;43m.\u001b[39;49m\u001b[43moptions\u001b[49m\u001b[38;5;241;43m.\u001b[39;49m\u001b[43mget\u001b[49m\u001b[43m(\u001b[49m\u001b[38;5;124;43m\"\u001b[39;49m\u001b[38;5;124;43mencoding\u001b[39;49m\u001b[38;5;124;43m\"\u001b[39;49m\u001b[43m,\u001b[49m\u001b[43m \u001b[49m\u001b[38;5;28;43;01mNone\u001b[39;49;00m\u001b[43m)\u001b[49m\u001b[43m,\u001b[49m\n\u001b[1;32m   1709\u001b[0m \u001b[43m    \u001b[49m\u001b[43mcompression\u001b[49m\u001b[38;5;241;43m=\u001b[39;49m\u001b[38;5;28;43mself\u001b[39;49m\u001b[38;5;241;43m.\u001b[39;49m\u001b[43moptions\u001b[49m\u001b[38;5;241;43m.\u001b[39;49m\u001b[43mget\u001b[49m\u001b[43m(\u001b[49m\u001b[38;5;124;43m\"\u001b[39;49m\u001b[38;5;124;43mcompression\u001b[39;49m\u001b[38;5;124;43m\"\u001b[39;49m\u001b[43m,\u001b[49m\u001b[43m \u001b[49m\u001b[38;5;28;43;01mNone\u001b[39;49;00m\u001b[43m)\u001b[49m\u001b[43m,\u001b[49m\n\u001b[1;32m   1710\u001b[0m \u001b[43m    \u001b[49m\u001b[43mmemory_map\u001b[49m\u001b[38;5;241;43m=\u001b[39;49m\u001b[38;5;28;43mself\u001b[39;49m\u001b[38;5;241;43m.\u001b[39;49m\u001b[43moptions\u001b[49m\u001b[38;5;241;43m.\u001b[39;49m\u001b[43mget\u001b[49m\u001b[43m(\u001b[49m\u001b[38;5;124;43m\"\u001b[39;49m\u001b[38;5;124;43mmemory_map\u001b[39;49m\u001b[38;5;124;43m\"\u001b[39;49m\u001b[43m,\u001b[49m\u001b[43m \u001b[49m\u001b[38;5;28;43;01mFalse\u001b[39;49;00m\u001b[43m)\u001b[49m\u001b[43m,\u001b[49m\n\u001b[1;32m   1711\u001b[0m \u001b[43m    \u001b[49m\u001b[43mis_text\u001b[49m\u001b[38;5;241;43m=\u001b[39;49m\u001b[43mis_text\u001b[49m\u001b[43m,\u001b[49m\n\u001b[1;32m   1712\u001b[0m \u001b[43m    \u001b[49m\u001b[43merrors\u001b[49m\u001b[38;5;241;43m=\u001b[39;49m\u001b[38;5;28;43mself\u001b[39;49m\u001b[38;5;241;43m.\u001b[39;49m\u001b[43moptions\u001b[49m\u001b[38;5;241;43m.\u001b[39;49m\u001b[43mget\u001b[49m\u001b[43m(\u001b[49m\u001b[38;5;124;43m\"\u001b[39;49m\u001b[38;5;124;43mencoding_errors\u001b[39;49m\u001b[38;5;124;43m\"\u001b[39;49m\u001b[43m,\u001b[49m\u001b[43m \u001b[49m\u001b[38;5;124;43m\"\u001b[39;49m\u001b[38;5;124;43mstrict\u001b[39;49m\u001b[38;5;124;43m\"\u001b[39;49m\u001b[43m)\u001b[49m\u001b[43m,\u001b[49m\n\u001b[1;32m   1713\u001b[0m \u001b[43m    \u001b[49m\u001b[43mstorage_options\u001b[49m\u001b[38;5;241;43m=\u001b[39;49m\u001b[38;5;28;43mself\u001b[39;49m\u001b[38;5;241;43m.\u001b[39;49m\u001b[43moptions\u001b[49m\u001b[38;5;241;43m.\u001b[39;49m\u001b[43mget\u001b[49m\u001b[43m(\u001b[49m\u001b[38;5;124;43m\"\u001b[39;49m\u001b[38;5;124;43mstorage_options\u001b[39;49m\u001b[38;5;124;43m\"\u001b[39;49m\u001b[43m,\u001b[49m\u001b[43m \u001b[49m\u001b[38;5;28;43;01mNone\u001b[39;49;00m\u001b[43m)\u001b[49m\u001b[43m,\u001b[49m\n\u001b[1;32m   1714\u001b[0m \u001b[43m\u001b[49m\u001b[43m)\u001b[49m\n\u001b[1;32m   1715\u001b[0m \u001b[38;5;28;01massert\u001b[39;00m \u001b[38;5;28mself\u001b[39m\u001b[38;5;241m.\u001b[39mhandles \u001b[38;5;129;01mis\u001b[39;00m \u001b[38;5;129;01mnot\u001b[39;00m \u001b[38;5;28;01mNone\u001b[39;00m\n\u001b[1;32m   1716\u001b[0m f \u001b[38;5;241m=\u001b[39m \u001b[38;5;28mself\u001b[39m\u001b[38;5;241m.\u001b[39mhandles\u001b[38;5;241m.\u001b[39mhandle\n",
      "File \u001b[0;32m~/anaconda3/envs/PythonData_2023_08/lib/python3.10/site-packages/pandas/io/common.py:863\u001b[0m, in \u001b[0;36mget_handle\u001b[0;34m(path_or_buf, mode, encoding, compression, memory_map, is_text, errors, storage_options)\u001b[0m\n\u001b[1;32m    858\u001b[0m \u001b[38;5;28;01melif\u001b[39;00m \u001b[38;5;28misinstance\u001b[39m(handle, \u001b[38;5;28mstr\u001b[39m):\n\u001b[1;32m    859\u001b[0m     \u001b[38;5;66;03m# Check whether the filename is to be opened in binary mode.\u001b[39;00m\n\u001b[1;32m    860\u001b[0m     \u001b[38;5;66;03m# Binary mode does not support 'encoding' and 'newline'.\u001b[39;00m\n\u001b[1;32m    861\u001b[0m     \u001b[38;5;28;01mif\u001b[39;00m ioargs\u001b[38;5;241m.\u001b[39mencoding \u001b[38;5;129;01mand\u001b[39;00m \u001b[38;5;124m\"\u001b[39m\u001b[38;5;124mb\u001b[39m\u001b[38;5;124m\"\u001b[39m \u001b[38;5;129;01mnot\u001b[39;00m \u001b[38;5;129;01min\u001b[39;00m ioargs\u001b[38;5;241m.\u001b[39mmode:\n\u001b[1;32m    862\u001b[0m         \u001b[38;5;66;03m# Encoding\u001b[39;00m\n\u001b[0;32m--> 863\u001b[0m         handle \u001b[38;5;241m=\u001b[39m \u001b[38;5;28;43mopen\u001b[39;49m\u001b[43m(\u001b[49m\n\u001b[1;32m    864\u001b[0m \u001b[43m            \u001b[49m\u001b[43mhandle\u001b[49m\u001b[43m,\u001b[49m\n\u001b[1;32m    865\u001b[0m \u001b[43m            \u001b[49m\u001b[43mioargs\u001b[49m\u001b[38;5;241;43m.\u001b[39;49m\u001b[43mmode\u001b[49m\u001b[43m,\u001b[49m\n\u001b[1;32m    866\u001b[0m \u001b[43m            \u001b[49m\u001b[43mencoding\u001b[49m\u001b[38;5;241;43m=\u001b[39;49m\u001b[43mioargs\u001b[49m\u001b[38;5;241;43m.\u001b[39;49m\u001b[43mencoding\u001b[49m\u001b[43m,\u001b[49m\n\u001b[1;32m    867\u001b[0m \u001b[43m            \u001b[49m\u001b[43merrors\u001b[49m\u001b[38;5;241;43m=\u001b[39;49m\u001b[43merrors\u001b[49m\u001b[43m,\u001b[49m\n\u001b[1;32m    868\u001b[0m \u001b[43m            \u001b[49m\u001b[43mnewline\u001b[49m\u001b[38;5;241;43m=\u001b[39;49m\u001b[38;5;124;43m\"\u001b[39;49m\u001b[38;5;124;43m\"\u001b[39;49m\u001b[43m,\u001b[49m\n\u001b[1;32m    869\u001b[0m \u001b[43m        \u001b[49m\u001b[43m)\u001b[49m\n\u001b[1;32m    870\u001b[0m     \u001b[38;5;28;01melse\u001b[39;00m:\n\u001b[1;32m    871\u001b[0m         \u001b[38;5;66;03m# Binary mode\u001b[39;00m\n\u001b[1;32m    872\u001b[0m         handle \u001b[38;5;241m=\u001b[39m \u001b[38;5;28mopen\u001b[39m(handle, ioargs\u001b[38;5;241m.\u001b[39mmode)\n",
      "\u001b[0;31mFileNotFoundError\u001b[0m: [Errno 2] No such file or directory: 'Resources/dementia_patients_health_data.csv'"
     ]
    }
   ],
   "source": [
    "import pandas as pd\n",
    "import matplotlib.pyplot as plt\n",
    "\n",
    "df = pd.read_csv(\"Resources/dementia_patients_health_data.csv\")\n",
    "df.head()\n"
   ]
  },
  {
   "cell_type": "code",
   "execution_count": null,
   "metadata": {},
   "outputs": [
    {
     "data": {
      "text/html": [
       "<div>\n",
       "<style scoped>\n",
       "    .dataframe tbody tr th:only-of-type {\n",
       "        vertical-align: middle;\n",
       "    }\n",
       "\n",
       "    .dataframe tbody tr th {\n",
       "        vertical-align: top;\n",
       "    }\n",
       "\n",
       "    .dataframe thead th {\n",
       "        text-align: right;\n",
       "    }\n",
       "</style>\n",
       "<table border=\"1\" class=\"dataframe\">\n",
       "  <thead>\n",
       "    <tr style=\"text-align: right;\">\n",
       "      <th></th>\n",
       "      <th>Diabetic</th>\n",
       "      <th>AlcoholLevel</th>\n",
       "      <th>HeartRate</th>\n",
       "      <th>BloodOxygenLevel</th>\n",
       "      <th>BodyTemperature</th>\n",
       "      <th>Weight</th>\n",
       "      <th>MRI_Delay</th>\n",
       "      <th>Age</th>\n",
       "      <th>Education_Level</th>\n",
       "      <th>Dominant_Hand</th>\n",
       "      <th>Gender</th>\n",
       "      <th>Family_History</th>\n",
       "      <th>Smoking_Status</th>\n",
       "      <th>Physical_Activity</th>\n",
       "      <th>Depression_Status</th>\n",
       "      <th>Medication_History</th>\n",
       "      <th>Nutrition_Diet</th>\n",
       "      <th>Sleep_Quality</th>\n",
       "    </tr>\n",
       "  </thead>\n",
       "  <tbody>\n",
       "    <tr>\n",
       "      <th>0</th>\n",
       "      <td>1</td>\n",
       "      <td>0.084974</td>\n",
       "      <td>98</td>\n",
       "      <td>96.230743</td>\n",
       "      <td>36.224852</td>\n",
       "      <td>57.563978</td>\n",
       "      <td>36.421028</td>\n",
       "      <td>60</td>\n",
       "      <td>Primary School</td>\n",
       "      <td>Left</td>\n",
       "      <td>Female</td>\n",
       "      <td>No</td>\n",
       "      <td>Current Smoker</td>\n",
       "      <td>Sedentary</td>\n",
       "      <td>No</td>\n",
       "      <td>No</td>\n",
       "      <td>Low-Carb Diet</td>\n",
       "      <td>Poor</td>\n",
       "    </tr>\n",
       "    <tr>\n",
       "      <th>1</th>\n",
       "      <td>0</td>\n",
       "      <td>0.016973</td>\n",
       "      <td>78</td>\n",
       "      <td>93.032122</td>\n",
       "      <td>36.183874</td>\n",
       "      <td>56.832335</td>\n",
       "      <td>31.157633</td>\n",
       "      <td>61</td>\n",
       "      <td>Secondary School</td>\n",
       "      <td>Right</td>\n",
       "      <td>Male</td>\n",
       "      <td>No</td>\n",
       "      <td>Former Smoker</td>\n",
       "      <td>Moderate Activity</td>\n",
       "      <td>No</td>\n",
       "      <td>Yes</td>\n",
       "      <td>Low-Carb Diet</td>\n",
       "      <td>Poor</td>\n",
       "    </tr>\n",
       "    <tr>\n",
       "      <th>2</th>\n",
       "      <td>0</td>\n",
       "      <td>0.009000</td>\n",
       "      <td>89</td>\n",
       "      <td>93.566504</td>\n",
       "      <td>37.326321</td>\n",
       "      <td>59.759066</td>\n",
       "      <td>37.640435</td>\n",
       "      <td>69</td>\n",
       "      <td>Primary School</td>\n",
       "      <td>Right</td>\n",
       "      <td>Male</td>\n",
       "      <td>Yes</td>\n",
       "      <td>Former Smoker</td>\n",
       "      <td>Moderate Activity</td>\n",
       "      <td>No</td>\n",
       "      <td>No</td>\n",
       "      <td>Mediterranean Diet</td>\n",
       "      <td>Poor</td>\n",
       "    </tr>\n",
       "    <tr>\n",
       "      <th>3</th>\n",
       "      <td>0</td>\n",
       "      <td>0.086437</td>\n",
       "      <td>60</td>\n",
       "      <td>93.906510</td>\n",
       "      <td>37.030620</td>\n",
       "      <td>58.266471</td>\n",
       "      <td>50.673992</td>\n",
       "      <td>78</td>\n",
       "      <td>Secondary School</td>\n",
       "      <td>Left</td>\n",
       "      <td>Female</td>\n",
       "      <td>Yes</td>\n",
       "      <td>Never Smoked</td>\n",
       "      <td>Mild Activity</td>\n",
       "      <td>Yes</td>\n",
       "      <td>Yes</td>\n",
       "      <td>Balanced Diet</td>\n",
       "      <td>Poor</td>\n",
       "    </tr>\n",
       "    <tr>\n",
       "      <th>4</th>\n",
       "      <td>1</td>\n",
       "      <td>0.150747</td>\n",
       "      <td>67</td>\n",
       "      <td>97.508994</td>\n",
       "      <td>36.062121</td>\n",
       "      <td>67.705027</td>\n",
       "      <td>27.810601</td>\n",
       "      <td>77</td>\n",
       "      <td>Secondary School</td>\n",
       "      <td>Right</td>\n",
       "      <td>Male</td>\n",
       "      <td>Yes</td>\n",
       "      <td>Never Smoked</td>\n",
       "      <td>Mild Activity</td>\n",
       "      <td>No</td>\n",
       "      <td>Yes</td>\n",
       "      <td>Low-Carb Diet</td>\n",
       "      <td>Good</td>\n",
       "    </tr>\n",
       "  </tbody>\n",
       "</table>\n",
       "</div>"
      ],
      "text/plain": [
       "   Diabetic  AlcoholLevel  HeartRate  BloodOxygenLevel  BodyTemperature  \\\n",
       "0         1      0.084974         98         96.230743        36.224852   \n",
       "1         0      0.016973         78         93.032122        36.183874   \n",
       "2         0      0.009000         89         93.566504        37.326321   \n",
       "3         0      0.086437         60         93.906510        37.030620   \n",
       "4         1      0.150747         67         97.508994        36.062121   \n",
       "\n",
       "      Weight  MRI_Delay  Age   Education_Level Dominant_Hand  Gender  \\\n",
       "0  57.563978  36.421028   60    Primary School          Left  Female   \n",
       "1  56.832335  31.157633   61  Secondary School         Right    Male   \n",
       "2  59.759066  37.640435   69    Primary School         Right    Male   \n",
       "3  58.266471  50.673992   78  Secondary School          Left  Female   \n",
       "4  67.705027  27.810601   77  Secondary School         Right    Male   \n",
       "\n",
       "  Family_History  Smoking_Status  Physical_Activity Depression_Status  \\\n",
       "0             No  Current Smoker          Sedentary                No   \n",
       "1             No   Former Smoker  Moderate Activity                No   \n",
       "2            Yes   Former Smoker  Moderate Activity                No   \n",
       "3            Yes    Never Smoked      Mild Activity               Yes   \n",
       "4            Yes    Never Smoked      Mild Activity                No   \n",
       "\n",
       "  Medication_History      Nutrition_Diet Sleep_Quality  \n",
       "0                 No       Low-Carb Diet          Poor  \n",
       "1                Yes       Low-Carb Diet          Poor  \n",
       "2                 No  Mediterranean Diet          Poor  \n",
       "3                Yes       Balanced Diet          Poor  \n",
       "4                Yes       Low-Carb Diet          Good  "
      ]
     },
     "execution_count": 8,
     "metadata": {},
     "output_type": "execute_result"
    }
   ],
   "source": [
    "\n",
    "df = df[[\"Diabetic\", \"AlcoholLevel\", \"HeartRate\", \"BloodOxygenLevel\", \"BodyTemperature\", \"Weight\", \"MRI_Delay\", \"Age\", \"Education_Level\",  \"Dominant_Hand\", \"Gender\", \"Family_History\", \"Smoking_Status\",  \"Physical_Activity\", \"Depression_Status\", \"Medication_History\", \"Nutrition_Diet\", \"Sleep_Quality\"]]\n",
    "df.head()\n"
   ]
  },
  {
   "cell_type": "code",
   "execution_count": null,
   "metadata": {},
   "outputs": [
    {
     "name": "stdout",
     "output_type": "stream",
     "text": [
      "<class 'pandas.core.frame.DataFrame'>\n",
      "RangeIndex: 1000 entries, 0 to 999\n",
      "Data columns (total 18 columns):\n",
      " #   Column              Non-Null Count  Dtype  \n",
      "---  ------              --------------  -----  \n",
      " 0   Diabetic            1000 non-null   int64  \n",
      " 1   AlcoholLevel        1000 non-null   float64\n",
      " 2   HeartRate           1000 non-null   int64  \n",
      " 3   BloodOxygenLevel    1000 non-null   float64\n",
      " 4   BodyTemperature     1000 non-null   float64\n",
      " 5   Weight              1000 non-null   float64\n",
      " 6   MRI_Delay           1000 non-null   float64\n",
      " 7   Age                 1000 non-null   int64  \n",
      " 8   Education_Level     1000 non-null   object \n",
      " 9   Dominant_Hand       1000 non-null   object \n",
      " 10  Gender              1000 non-null   object \n",
      " 11  Family_History      1000 non-null   object \n",
      " 12  Smoking_Status      1000 non-null   object \n",
      " 13  Physical_Activity   1000 non-null   object \n",
      " 14  Depression_Status   1000 non-null   object \n",
      " 15  Medication_History  1000 non-null   object \n",
      " 16  Nutrition_Diet      1000 non-null   object \n",
      " 17  Sleep_Quality       1000 non-null   object \n",
      "dtypes: float64(5), int64(3), object(10)\n",
      "memory usage: 140.8+ KB\n"
     ]
    },
    {
     "data": {
      "text/plain": [
       "Diabetic              0\n",
       "AlcoholLevel          0\n",
       "HeartRate             0\n",
       "BloodOxygenLevel      0\n",
       "BodyTemperature       0\n",
       "Weight                0\n",
       "MRI_Delay             0\n",
       "Age                   0\n",
       "Education_Level       0\n",
       "Dominant_Hand         0\n",
       "Gender                0\n",
       "Family_History        0\n",
       "Smoking_Status        0\n",
       "Physical_Activity     0\n",
       "Depression_Status     0\n",
       "Medication_History    0\n",
       "Nutrition_Diet        0\n",
       "Sleep_Quality         0\n",
       "dtype: int64"
      ]
     },
     "execution_count": 9,
     "metadata": {},
     "output_type": "execute_result"
    }
   ],
   "source": [
    "\n",
    "df.info()\n",
    "df = df.dropna()\n",
    "df.isnull().sum()\n"
   ]
  },
  {
   "cell_type": "code",
   "execution_count": null,
   "metadata": {},
   "outputs": [],
   "source": [
    "\n",
    "def shorten_categories(categories, cutoff):\n",
    "    categorical_map = {}\n",
    "    for i in range(len(categories)):\n",
    "        if categories.values[i] >= cutoff:\n",
    "            categorical_map[categories.index[i]] = categories.index[i]\n",
    "        else:\n",
    "            categorical_map[categories.index[i]] = 'Other'\n",
    "    return categorical_map\n"
   ]
  },
  {
   "cell_type": "code",
   "execution_count": null,
   "metadata": {},
   "outputs": [
    {
     "data": {
      "text/plain": [
       "('Medication_History',)"
      ]
     },
     "execution_count": 11,
     "metadata": {},
     "output_type": "execute_result"
    }
   ],
   "source": [
    "\"Diabetic\", \n",
    "\"AlcoholLevel\",\n",
    "\"BodyTemperature\",\n",
    "\"MRI_Delay\",\n",
    "\"Education_Level\",\n",
    "\"Dominant_Hand\",\n",
    "\"Family_History\", \n",
    "\"Medication_History\",\n"
   ]
  },
  {
   "cell_type": "code",
   "execution_count": null,
   "metadata": {},
   "outputs": [
    {
     "data": {
      "text/plain": [
       "array([1, 0])"
      ]
     },
     "execution_count": 12,
     "metadata": {},
     "output_type": "execute_result"
    }
   ],
   "source": [
    "from sklearn.preprocessing import LabelEncoder\n",
    "\n",
    "le_diabetes = LabelEncoder()\n",
    "df['Diabetic'] = le_diabetes.fit_transform(df['Diabetic'])\n",
    "df[\"Diabetic\"].unique()\n"
   ]
  },
  {
   "cell_type": "code",
   "execution_count": null,
   "metadata": {},
   "outputs": [
    {
     "data": {
      "text/plain": [
       "array([432,  93,  46, 441, 742, 580,  88, 798,  85, 494, 351, 417, 155,\n",
       "       447, 772, 833, 202, 167, 787, 986, 473, 455, 260,  10, 766, 540,\n",
       "       560, 284, 705, 722,  89, 329, 956, 835, 652, 739, 409, 826, 509,\n",
       "       232, 564, 293, 725, 961, 227, 376, 697, 130, 264, 448, 148, 937,\n",
       "       271, 496, 522, 551, 843, 649, 764, 713, 262,   4, 890, 219, 163,\n",
       "       275, 406, 512, 610, 641, 719, 603, 538, 732, 703, 414,  90, 152,\n",
       "       195, 588,   8,  29, 910, 120, 819, 407, 563, 886, 894, 884, 423,\n",
       "        50, 419, 663,  76, 545, 124, 114, 162, 245, 622, 462, 157, 504,\n",
       "       790, 386, 816, 619, 428, 783, 741, 236, 860, 370, 499, 943, 463,\n",
       "        26, 925, 178, 847, 390, 654, 919, 665, 266, 707, 145, 994, 544,\n",
       "        31, 920,  69, 679,  30, 813,   9, 933, 159, 111, 985, 880,  38,\n",
       "        61,  81, 912, 230, 420, 200, 479,  19, 696,  23, 218, 464, 976,\n",
       "       566, 324, 395, 196,   1, 907, 909, 123, 768, 714, 342, 990, 187,\n",
       "       808, 452, 388, 743, 297, 140,  56, 831, 518, 302, 394, 515, 401,\n",
       "       541, 358, 995, 305, 814, 493, 273, 353, 582, 525, 431, 296, 967,\n",
       "       855, 865, 709, 338, 384, 625, 626, 239, 190, 352, 648, 749, 593,\n",
       "       645, 500, 241, 817, 803, 796, 381, 457, 484, 660, 659, 191, 938,\n",
       "       941, 368, 272, 716, 265, 981, 303, 268, 822, 643, 110, 330, 240,\n",
       "        35, 189, 215, 177, 704, 103, 355, 349,  66, 285, 636, 738, 605,\n",
       "       506, 775,  53, 686, 422, 902, 881, 575, 900, 345, 547, 782, 295,\n",
       "       669, 436, 201, 615, 664, 119, 421, 440, 731, 695, 959,  82, 261,\n",
       "       800, 156, 486, 969, 840, 678, 968, 862, 587, 101, 662, 426, 727,\n",
       "       216, 832, 237, 600,  39, 168, 591, 228, 359, 129, 778, 450, 684,\n",
       "       793,  13,  14, 638, 527, 461, 375, 341, 711,  16, 594, 911, 666,\n",
       "       751, 970, 642, 915, 234, 717, 182, 903, 682, 517, 952, 107, 252,\n",
       "       765, 346, 729, 801,  98, 470, 487, 307, 632, 898, 446, 899,  32,\n",
       "       955, 868, 548, 373, 281, 235, 657, 879, 430, 629, 160, 773, 966,\n",
       "       989, 389, 393,  22, 947, 549, 569, 319, 567, 267, 385, 595, 964,\n",
       "       810, 975, 823, 278, 435,   2, 520, 857, 979, 824, 528, 712, 467,\n",
       "       396, 576, 146, 658, 688, 821, 788, 745, 905, 532, 807, 372, 402,\n",
       "       616, 147, 283, 502, 503, 488, 149, 596, 754,  51, 207, 459, 592,\n",
       "       687, 258, 534, 942,   0, 936, 469, 339, 134, 138, 391, 539, 513,\n",
       "       675,  11, 282, 416, 263, 771, 892, 132, 815, 559, 584,  79, 472,\n",
       "       318, 834, 804, 238, 962, 222, 757, 978, 204,  72, 546, 895, 805,\n",
       "       554, 362,  33, 572, 908, 291,  94, 226, 192, 497, 681,  21, 408,\n",
       "       477, 454,  67,  91, 848, 935, 988, 516, 762, 387, 565, 173, 323,\n",
       "       972, 380, 206, 242, 602, 873, 571, 382, 274, 490, 343, 476,  34,\n",
       "       853, 667,  44, 121, 618, 586, 680, 433, 917, 583, 987, 144, 621,\n",
       "        28, 608, 125, 510,  71, 250, 558,  77, 507, 154, 901, 102, 321,\n",
       "       135,   3, 770, 691, 392, 316, 934, 634,  62, 521, 945, 597, 639,\n",
       "        78, 785, 612, 733, 581,  65, 878, 635, 116, 248, 623, 336, 784,\n",
       "       300, 861, 856, 366, 519,  52, 536, 756, 552, 255, 105, 246, 683,\n",
       "       483, 896, 723, 411, 699, 904, 574, 755, 505, 491, 449, 158,  84,\n",
       "       893, 365, 720, 794, 887, 128, 205, 753, 308, 736, 126, 374, 997,\n",
       "       779, 992, 181,  63, 974, 356, 958, 117, 859,  20, 562, 633, 851,\n",
       "       557, 212, 670, 676, 451, 858,  43, 543, 850,  48, 378, 277, 701,\n",
       "       698, 631, 468, 763, 724, 210, 948, 845, 404,  92,  99, 164, 310,\n",
       "       480, 244, 661, 767, 327, 721, 180, 871, 973, 229, 511, 458, 279,\n",
       "       799, 257, 993, 533, 737, 139, 259, 335, 254, 897, 270, 838, 223,\n",
       "       820, 928, 877, 143, 115,  74, 198, 628, 577, 175, 655, 876, 399,\n",
       "       700, 523, 478, 360, 818, 350, 786, 863, 726, 996, 471, 872, 561,\n",
       "       171,  45, 674, 777, 326, 708, 434, 748, 165, 317, 492, 400, 668,\n",
       "       927, 508, 489, 929, 852, 998, 256, 607, 347, 299, 131, 916, 977,\n",
       "       174,   6, 197, 290, 760, 287, 106, 193, 930, 728, 776, 542, 530,\n",
       "       882, 403, 888, 780, 870, 340, 875, 627, 153, 176, 357, 369, 309,\n",
       "       841, 715, 269, 429, 585, 465, 914, 185, 169, 673, 866,  87, 328,\n",
       "       427, 750, 415, 568, 570, 653, 791, 166, 224, 495, 150, 598,  57,\n",
       "       311, 412, 921, 313, 325, 292, 944, 891,  70, 556,  18, 363, 769,\n",
       "       211, 906, 280, 122, 555,  83,  59, 690, 498, 706, 553, 939, 609,\n",
       "       812, 647, 188, 233, 949, 836, 630, 104,  40,  49, 221, 579, 734,\n",
       "       637, 644, 692, 922,  75, 950, 208, 651, 112,  27, 276, 795, 550,\n",
       "       251, 482, 301, 811,   7, 913, 624, 485, 744, 364, 747, 383, 220,\n",
       "       194, 957, 677, 444,  41, 671, 531, 864, 578, 398, 867, 829, 656,\n",
       "       203, 980, 797, 889, 142, 331, 759, 367, 289, 940, 918,   5, 789,\n",
       "       334, 874, 951, 361, 650, 971,  47, 306, 837,  36, 354, 984, 315,\n",
       "       456, 214, 849,  95, 337, 253, 445, 792, 710, 924,  42, 442, 991,\n",
       "       199, 141, 932, 809, 118, 217, 730, 923, 133, 286, 613, 573, 590,\n",
       "       225, 965, 761, 537, 617, 418, 672,  86, 304,  55, 170, 371, 931,\n",
       "       611, 999,  68,  58, 828, 535, 758, 926, 953, 806, 439, 606,  24,\n",
       "       179, 982, 136, 802, 601, 854,  25, 460, 320, 332, 685, 689, 137,\n",
       "       161, 524, 209, 830,  54, 526, 846, 827, 839, 186, 249, 243, 646,\n",
       "       752, 501, 348, 344, 379, 474, 453, 438, 184, 231, 312,  17, 774,\n",
       "       825, 614,  96, 475,  15, 746, 183, 946, 735, 100, 844, 322, 424,\n",
       "        37, 960, 883, 781, 954, 298, 425, 702, 529, 127, 694, 314, 333,\n",
       "       589, 410,  73, 740, 109,  60,  80, 885, 405, 288, 604, 294, 247,\n",
       "        64, 599, 151, 963, 983, 466, 842, 620, 869, 514,  97, 172, 443,\n",
       "       397, 481, 113, 108, 693, 640,  12, 413, 718, 377, 213, 437])"
      ]
     },
     "execution_count": 13,
     "metadata": {},
     "output_type": "execute_result"
    }
   ],
   "source": [
    "\n",
    "le_alcohollvl = LabelEncoder()\n",
    "df['AlcoholLevel'] = le_alcohollvl.fit_transform(df['AlcoholLevel'])\n",
    "df[\"AlcoholLevel\"].unique()\n"
   ]
  },
  {
   "cell_type": "code",
   "execution_count": null,
   "metadata": {},
   "outputs": [
    {
     "data": {
      "text/plain": [
       "array([149, 124, 883, 670,  39, 444, 666,  30, 622, 251, 739, 333, 410,\n",
       "       918, 542,   4, 711, 376, 979, 264, 756, 812, 349,  51, 479, 517,\n",
       "       694, 154, 368, 889, 943,  37, 700, 611, 101, 440, 576, 989, 899,\n",
       "       419, 626, 254, 546, 371, 466, 676, 974,  52, 183, 981, 204, 511,\n",
       "       433,  76, 774, 567, 180,  47, 667,  14, 660, 992, 129, 196, 385,\n",
       "       442, 890, 944, 120, 592, 467, 490, 514, 731, 325,  75,  81, 623,\n",
       "       140, 905, 208, 752, 108, 106, 754, 822,  28, 702, 109, 107, 192,\n",
       "       166, 287, 906,  33, 806, 358, 631,  64,  77, 452, 810, 991, 344,\n",
       "       185, 572, 430, 431, 994,  57, 563, 232, 158, 523, 636, 422,  95,\n",
       "       613, 801, 761, 391, 935, 122, 377,  74, 237, 732, 693, 472, 506,\n",
       "       915, 324, 530, 429,  49, 961,  71,   8, 807, 907, 562, 825, 364,\n",
       "        91, 484, 988, 187, 380, 654, 361, 581, 966, 238, 207, 339, 443,\n",
       "       904, 128,  38, 939, 113, 331, 532,  44, 740, 653, 764, 369, 168,\n",
       "       730, 830, 920, 783, 860, 512, 161, 155,  58, 174, 574, 231, 926,\n",
       "       252, 421, 933, 600,  66, 913, 591, 219, 706,  55, 914, 948, 476,\n",
       "       468, 271, 283, 112, 463, 137, 662, 605, 301, 577, 746, 543,  79,\n",
       "       854, 873, 554, 923, 342,  84, 664, 955, 145, 434, 234, 201, 300,\n",
       "       590, 216, 722, 608, 534, 432,  62, 877, 418,  24, 815, 217, 289,\n",
       "       473, 946, 560, 840, 407, 225, 934, 859, 314, 871, 526, 386, 725,\n",
       "       745, 273, 748, 799, 940, 206, 669, 734,  67, 265, 759, 902, 549,\n",
       "       411, 426, 144, 566, 606, 335,  96, 171, 505, 515, 993, 798,  21,\n",
       "       671, 464, 696, 402, 245, 688, 228, 483, 583, 571, 826, 633, 395,\n",
       "       276, 858, 321, 929, 644, 162, 800, 868, 607, 895, 236, 742, 855,\n",
       "       441,   9, 836, 738, 258, 242, 519, 580, 785, 597, 643, 665,  36,\n",
       "       449, 244, 717, 303, 782, 610,  56, 550, 469, 708, 256,  70, 650,\n",
       "       363, 838, 224, 612, 585, 750, 424, 703, 594, 392, 382, 886, 793,\n",
       "       220, 412, 553,  42, 152, 389, 869,  61,  35, 651, 848, 547, 346,\n",
       "       903,  11, 387, 995, 982, 839, 235, 957, 177, 778, 911,  89, 116,\n",
       "       686, 558, 649, 478, 736, 500, 768, 345,  97,  25, 142, 288, 744,\n",
       "       999, 863, 114, 844, 381, 474, 200, 641, 804, 428, 270, 110, 958,\n",
       "       503,  43, 757, 481, 685, 362, 814, 341, 767, 635, 312, 193, 894,\n",
       "       874, 971, 632, 949,   6, 659, 292, 601, 195, 797, 646,  73,  60,\n",
       "       518, 509, 614,  46, 211, 261, 796, 373, 272, 598, 776, 938, 450,\n",
       "       713, 295, 446, 770, 357,  48,  87,  90, 233, 374, 615, 942, 645,\n",
       "       172, 274, 655, 758, 147, 539, 675, 910, 136, 879, 535, 865, 317,\n",
       "       856, 480, 308, 642,  19, 240, 937,   5, 921, 741, 820, 179, 625,\n",
       "       792, 393, 117, 726, 951, 332, 639,  27, 125, 461, 497, 169, 336,\n",
       "       586, 885, 269, 111, 697, 704, 637, 753, 763,  15, 551, 406,  69,\n",
       "       427, 881, 311, 488, 176, 213, 922, 596, 656, 290, 705, 919, 181,\n",
       "       492, 684, 857, 378, 316, 809, 470, 884, 456,  99, 496, 931, 811,\n",
       "       367,  40, 223, 823, 638, 119, 912, 640,  22, 190,  82, 413, 803,\n",
       "       831, 987, 997, 887, 727, 307, 964, 972, 589, 673,  54, 524, 735,\n",
       "       191, 347, 864, 372, 404, 115, 629, 396, 337, 455,  72, 209, 936,\n",
       "       198, 977, 100,  34, 747, 538, 564, 260, 415, 148, 462, 214, 595,\n",
       "       882,  92, 250, 356, 724, 130, 593, 900,  26, 980, 425, 805, 829,\n",
       "         1, 285, 105, 340, 322, 338, 721, 872, 447, 737, 516, 221, 475,\n",
       "       861,  18, 787, 394, 996, 837, 893, 570, 477, 133, 194, 243, 634,\n",
       "       409, 320, 215,   3, 291, 621, 348, 139, 135, 157, 379, 712, 784,\n",
       "       970, 253, 843, 661, 714,  53, 397,  12,   2, 210, 723, 491, 647,\n",
       "       794, 533, 620, 609, 334, 330, 878, 458, 275, 305,  41, 280, 984,\n",
       "       355, 751, 978, 278, 134, 502, 528,  83, 766, 663, 557, 719, 417,\n",
       "       976, 954, 780, 833, 677, 353, 819, 968, 930, 851, 398, 390, 953,\n",
       "        65, 188, 548, 457, 710, 624, 552, 165, 545, 436, 559, 565, 408,\n",
       "        50, 513, 617, 438, 602, 880, 284,  80, 755, 990, 414, 672, 159,\n",
       "       203, 555, 103, 777, 769, 375, 315, 908, 986, 527, 182, 205, 772,\n",
       "       138, 808, 832, 963, 932, 813, 540,  98, 690, 299,  85, 445, 950,\n",
       "       327, 674, 816, 791, 802, 293, 521, 507, 603, 319, 486,   0, 967,\n",
       "       175, 199, 888, 437, 604, 561, 544, 969, 584, 146, 170, 323, 789,\n",
       "       616, 281, 163, 698, 941, 795, 536, 897, 619, 465, 846, 510, 689,\n",
       "       973, 525, 121, 522, 360, 901, 668, 399, 218, 400, 439, 259, 983,\n",
       "       853, 867, 255,  59, 520, 212, 866,  16, 579, 227, 786, 618, 370,\n",
       "       707, 126, 118, 687, 965, 541, 401, 104, 494, 743, 841, 842, 160,\n",
       "       366, 775, 141, 947, 852, 928, 556,  20,  94, 329, 304, 587, 850,\n",
       "       682, 652, 779, 630, 733, 715, 927, 350,  23,  68, 343, 728, 985,\n",
       "       917, 575, 277, 529, 760, 267, 692, 678, 680,   7, 495, 489, 493,\n",
       "       568, 691, 952, 699, 827, 309, 405,  86, 383, 153, 485, 508, 453,\n",
       "       448, 956, 718, 286, 246, 173, 297, 537,  45, 294, 459, 788, 975,\n",
       "       156, 186, 151, 828, 762, 310, 960, 202, 998, 241, 925, 230, 123,\n",
       "       959, 749, 716, 257, 821, 709, 487, 226, 247, 578, 657, 239, 628,\n",
       "       354, 435, 599, 454, 945, 262, 282, 771, 531, 862, 296, 501, 313,\n",
       "       916, 845, 627, 924, 266, 817, 451, 818, 222, 773, 834, 588,  88,\n",
       "       229, 648, 891, 197, 249, 416,  63, 127, 471, 898, 896, 248, 790,\n",
       "       909, 729,  78, 298, 306, 189, 695, 962, 384, 892, 263, 781, 420,\n",
       "       573, 403, 423, 482, 835, 302, 167, 720, 326,  31, 279, 102, 164,\n",
       "       875,  17,  93, 847, 365, 658, 143, 683, 352, 351, 876, 824, 849,\n",
       "        29, 498, 359, 132, 184,  13, 460, 499, 328, 268, 870, 765, 131,\n",
       "       569, 582, 150, 388,  32, 504, 681, 318, 178, 701, 679,  10])"
      ]
     },
     "execution_count": 14,
     "metadata": {},
     "output_type": "execute_result"
    }
   ],
   "source": [
    "\n",
    "le_bodytemp = LabelEncoder()\n",
    "df['BodyTemperature'] = le_bodytemp.fit_transform(df['BodyTemperature'])\n",
    "df[\"BodyTemperature\"].unique()\n"
   ]
  },
  {
   "cell_type": "code",
   "execution_count": null,
   "metadata": {},
   "outputs": [
    {
     "data": {
      "text/plain": [
       "array([622, 522, 638, 859, 453, 341, 170, 510, 626, 834, 362, 585, 881,\n",
       "       930, 134, 545, 149, 217, 640, 872, 355,  95, 285, 116, 405, 564,\n",
       "       175, 248, 494, 957, 518, 379, 430, 475, 777, 700, 106, 828, 142,\n",
       "       999, 507, 950, 346,   3, 382, 816, 352, 231, 645, 738, 996, 228,\n",
       "       524, 868, 661, 207, 770,  50, 485, 110, 546, 850, 847, 839, 202,\n",
       "        74, 803, 253, 764, 799, 848, 923, 858,  75, 643,  60, 776, 659,\n",
       "       288, 986, 993, 205, 824, 397, 944, 361, 419, 429, 880, 840, 554,\n",
       "       560,  71, 726, 806, 444, 129, 746, 695, 152, 939, 437, 683, 269,\n",
       "       669,  92, 894, 111, 312, 390, 339, 832,   4, 580, 227, 458,  57,\n",
       "        78, 697, 201, 320, 914, 909, 413, 329, 618, 745, 189, 913, 625,\n",
       "       467, 936,  96, 250, 706, 791, 519, 213, 434, 509, 299, 257, 613,\n",
       "       938, 268,  94,  44, 280, 244, 916, 788, 177, 474, 135, 731, 783,\n",
       "       423, 236, 141, 639, 215, 468, 214,   7, 265, 624, 908, 707,  38,\n",
       "       860, 882, 370, 973, 951, 517, 498, 282, 220, 888, 664, 407, 720,\n",
       "       350, 971, 553, 169, 660, 200, 322, 853, 229, 481, 238, 628, 804,\n",
       "       239,  19, 873, 927,  49, 411, 795, 762, 998, 528,  77, 644, 183,\n",
       "       779, 501, 520, 934, 368, 676, 987, 406, 383, 563,  18, 694,  56,\n",
       "       965, 673, 538, 424, 584, 427, 743, 284, 907,  88,  55, 690, 827,\n",
       "       470, 805, 147, 131, 146, 889, 101, 491, 516,  69, 137, 511, 548,\n",
       "       818, 136, 441, 672, 557, 259, 879, 457, 578, 349, 303, 637, 385,\n",
       "       113, 460, 911, 155, 344, 369, 751, 921, 416, 100, 620, 246, 348,\n",
       "       333, 741, 150, 537, 436, 898, 686, 892, 139, 895, 852, 821,  24,\n",
       "       718, 784, 842, 712, 308, 287, 336, 478, 117, 247, 962, 371, 176,\n",
       "       454, 262, 456, 387, 489, 455, 958, 906, 941, 209, 426, 521, 222,\n",
       "       549, 165, 372, 243, 604, 340, 959, 319, 140, 347,  58, 561, 588,\n",
       "       810, 798, 109, 194, 449, 212, 937, 729, 335, 867, 535, 960,  39,\n",
       "       271, 290,  91, 851, 972, 953, 650,  85, 274, 956, 716, 366, 114,\n",
       "       874,  40,  15, 386, 490, 758, 570, 869, 156, 108, 291, 223, 772,\n",
       "       922, 656,  48, 373, 677, 648, 708, 581, 547, 591, 403,  68, 893,\n",
       "       267,  53,  72, 778, 725, 968, 901, 395, 566, 157, 575, 662, 118,\n",
       "       600,  10, 310, 531, 276, 204, 679,  80, 357,  61, 866, 769, 293,\n",
       "       586, 351, 771, 990,  33,  11, 277, 641, 488, 610, 377,   9, 949,\n",
       "        62, 476, 964, 154, 592,  84, 533, 182, 158, 235, 273, 636, 187,\n",
       "        93, 562, 955,  46, 719, 367, 612, 605, 473, 330, 571, 809, 245,\n",
       "        42, 495, 393, 412, 190,  65, 792,  73, 590, 855, 737, 440, 544,\n",
       "       900, 627, 948, 704, 224, 432, 461, 835,  27, 360,  12, 479, 768,\n",
       "       422, 748, 736, 926, 671, 358, 574, 364, 375, 919, 732, 794, 947,\n",
       "       849, 856, 304, 727, 327,  16, 653, 655, 702, 657,  17,  99, 492,\n",
       "       782, 295, 862, 307, 381, 682, 569, 836, 903, 757, 974, 756, 306,\n",
       "       313, 195, 607, 766, 617, 552, 191, 759, 252, 219, 399, 781, 121,\n",
       "       780, 703, 292, 254, 198, 713, 614, 812, 680, 730, 844, 865, 261,\n",
       "       598, 608, 266, 376, 420, 667, 486, 438, 542, 744, 807, 465, 378,\n",
       "       241, 833, 300, 384, 153, 796, 890, 540, 414, 162, 130, 670, 897,\n",
       "       767, 980, 392, 705, 321, 621, 283, 506, 831, 145, 325,  13, 838,\n",
       "       819, 450, 487, 715, 878, 480, 876, 415, 334, 632, 332, 127, 464,\n",
       "       180,  82, 203, 754, 286, 497, 463, 174, 896, 356, 742, 735, 753,\n",
       "       296, 102, 447, 603, 749, 389, 904, 826, 875, 435, 924, 163, 466,\n",
       "       565, 739, 861, 418, 443, 483, 225, 515, 630, 323, 503, 410, 928,\n",
       "        14,  70, 472, 774, 932, 945, 740, 452, 398, 297, 514, 353, 431,\n",
       "       359, 124, 210, 500, 940, 994, 363, 166, 761, 942, 559, 845, 173,\n",
       "       525, 179, 120, 421, 543,  97, 594, 505, 391, 289, 541, 786,  63,\n",
       "       484,   5, 933, 558, 115, 345,  22, 428, 952, 775, 602, 186, 197,\n",
       "       981,  25, 802, 976, 750, 128, 763, 615, 709, 317, 240, 230, 311,\n",
       "       674, 143, 989, 404,  66, 119, 714, 417, 863, 925, 185, 103, 508,\n",
       "       527, 884, 773, 977, 328, 160, 263, 595, 260,  83, 917, 646, 439,\n",
       "       760, 823,  37, 979, 877, 652, 301, 985, 801, 302, 193, 969, 178,\n",
       "       218, 448, 402, 846, 394, 841,  35, 167, 733, 899, 668, 687, 843,\n",
       "       144, 305, 309, 184, 631, 249,  79, 451,  43, 837,   6, 388, 710,\n",
       "       172, 665, 318, 765, 978,  98, 496, 105, 722,  47, 343,  52, 556,\n",
       "        23,  87, 870, 808, 196, 482, 724, 232, 857, 854, 692, 675, 597,\n",
       "       315, 651, 168, 573, 365, 354, 409, 800, 279, 611, 696,  89, 396,\n",
       "       701, 278, 633, 815, 995, 887,   0, 298, 790, 931, 623, 723, 813,\n",
       "       983, 825,  81, 534, 161, 188, 526,  32, 649, 814, 891, 258, 991,\n",
       "       326, 606, 400, 122, 493, 829, 255, 171, 324, 728, 342,  51,  30,\n",
       "       216, 902, 752, 107, 539, 583, 689, 112, 126,  34, 634, 206, 530,\n",
       "       988,  54, 793,   1, 629, 242, 596, 555, 787, 551,  59, 992, 208,\n",
       "       681, 234, 654, 462, 513, 822, 445, 609,  29, 871, 577,  45, 237,\n",
       "       374,  31, 380, 616, 151, 929, 797, 593, 685, 658, 967,  64, 442,\n",
       "       734, 910, 401, 264, 148, 755, 642, 912, 104, 943,  76, 883, 576,\n",
       "       997, 905, 221, 691, 567, 572, 132, 408, 666, 693, 688, 684, 433,\n",
       "       961, 647, 532,  21, 125, 811, 529, 601,  20,  67, 138, 568, 982,\n",
       "       226, 915, 587, 192, 678, 523, 698, 635, 589, 337,   2,  41, 935,\n",
       "       338, 181, 123, 425, 785, 331, 920, 512, 502, 885, 471, 164,  90,\n",
       "       251, 133, 233, 918, 256, 314, 499, 830,   8, 717, 699, 159, 946,\n",
       "       477, 459, 199, 747, 550, 966, 864, 820, 469, 579, 817, 663, 294,\n",
       "       975, 272, 984, 963, 721,  86,  36, 275,  26, 970,  28, 281, 316,\n",
       "       446, 619, 599, 954, 582, 536, 789, 711, 886, 211, 270, 504])"
      ]
     },
     "execution_count": 15,
     "metadata": {},
     "output_type": "execute_result"
    }
   ],
   "source": [
    "\n",
    "le_MRI = LabelEncoder()\n",
    "df['MRI_Delay'] = le_MRI.fit_transform(df['MRI_Delay'])\n",
    "df[\"MRI_Delay\"].unique()\n"
   ]
  },
  {
   "cell_type": "code",
   "execution_count": null,
   "metadata": {},
   "outputs": [
    {
     "data": {
      "text/plain": [
       "array([2, 3, 1, 0])"
      ]
     },
     "execution_count": 16,
     "metadata": {},
     "output_type": "execute_result"
    }
   ],
   "source": [
    "\n",
    "le_education = LabelEncoder()\n",
    "df['Education_Level'] = le_education.fit_transform(df['Education_Level'])\n",
    "df[\"Education_Level\"].unique()\n"
   ]
  },
  {
   "cell_type": "code",
   "execution_count": null,
   "metadata": {},
   "outputs": [
    {
     "data": {
      "text/plain": [
       "array([0, 1])"
      ]
     },
     "execution_count": 17,
     "metadata": {},
     "output_type": "execute_result"
    }
   ],
   "source": [
    "\n",
    "le_handdom = LabelEncoder()\n",
    "df['Dominant_Hand'] = le_handdom.fit_transform(df['Dominant_Hand'])\n",
    "df[\"Dominant_Hand\"].unique()\n"
   ]
  },
  {
   "cell_type": "code",
   "execution_count": null,
   "metadata": {},
   "outputs": [
    {
     "data": {
      "text/plain": [
       "array([0, 1])"
      ]
     },
     "execution_count": 18,
     "metadata": {},
     "output_type": "execute_result"
    }
   ],
   "source": [
    "\n",
    "le_famhist = LabelEncoder()\n",
    "df['Family_History'] = le_famhist.fit_transform(df['Family_History'])\n",
    "df[\"Family_History\"].unique()\n"
   ]
  },
  {
   "cell_type": "code",
   "execution_count": null,
   "metadata": {},
   "outputs": [
    {
     "data": {
      "text/plain": [
       "array([0, 1])"
      ]
     },
     "execution_count": 19,
     "metadata": {},
     "output_type": "execute_result"
    }
   ],
   "source": [
    "\n",
    "le_medication = LabelEncoder()\n",
    "df['Medication_History'] = le_medication.fit_transform(df['Medication_History'])\n",
    "df[\"Medication_History\"].unique()\n"
   ]
  },
  {
   "cell_type": "code",
   "execution_count": null,
   "metadata": {},
   "outputs": [
    {
     "data": {
      "text/plain": [
       "array([0, 1, 2])"
      ]
     },
     "execution_count": 20,
     "metadata": {},
     "output_type": "execute_result"
    }
   ],
   "source": [
    "\n",
    "le_smoking = LabelEncoder()\n",
    "df['Smoking_Status'] = le_smoking.fit_transform(df['Smoking_Status'])\n",
    "df[\"Smoking_Status\"].unique()\n",
    "#le.classes_\n"
   ]
  },
  {
   "cell_type": "code",
   "execution_count": null,
   "metadata": {},
   "outputs": [
    {
     "data": {
      "text/plain": [
       "array([38, 18, 29,  0,  7, 34, 30,  9,  4, 37, 33, 31, 35, 24, 14, 22, 16,\n",
       "       39, 17,  6, 27, 15, 28, 23, 11, 10, 36,  1, 20, 25,  3, 12,  5, 13,\n",
       "       19,  8,  2, 21, 32, 40, 26])"
      ]
     },
     "execution_count": 21,
     "metadata": {},
     "output_type": "execute_result"
    }
   ],
   "source": [
    "\n",
    "le_heartrate = LabelEncoder()\n",
    "df['HeartRate'] = le_heartrate.fit_transform(df['HeartRate'])\n",
    "df[\"HeartRate\"].unique()\n"
   ]
  },
  {
   "cell_type": "code",
   "execution_count": null,
   "metadata": {},
   "outputs": [
    {
     "data": {
      "text/plain": [
       "array([591, 261, 328, 364, 718, 424, 606, 189, 979,  38, 187, 641, 876,\n",
       "       699, 343, 682, 971, 623, 303, 498, 358, 122, 922, 280, 963, 258,\n",
       "       346, 907,  50, 748, 123, 573,  30, 217, 890,  33, 597, 609, 670,\n",
       "       580, 866, 554,   3,  23, 119, 168, 136, 317, 818, 219, 880, 507,\n",
       "       376, 885,  47, 798, 587, 603,  54, 295, 540, 594, 884, 537, 422,\n",
       "       531, 161, 468, 518, 746, 741, 949, 221, 170, 284, 350, 238, 538,\n",
       "       781,  85, 405, 800, 159, 323, 671,   8, 478, 788, 902, 844, 402,\n",
       "       874, 371, 898, 959,  94, 871, 484, 361, 903, 349, 320, 577,  46,\n",
       "       178, 289, 319,  39, 786, 900, 765, 299, 108, 535, 264, 799, 947,\n",
       "        79,  36, 845, 333, 601, 910,  73, 708, 783, 712, 347, 975, 100,\n",
       "       496, 590, 304, 802, 766, 690, 556, 561, 266, 747, 886, 981, 568,\n",
       "       511, 400, 883, 621, 363, 574, 160, 846, 545, 943, 605, 214, 896,\n",
       "       704, 643, 856, 125, 509, 711,  63, 362, 752, 382, 378,  69, 499,\n",
       "       523, 373, 957, 909,  43, 325, 413, 563, 263, 420, 510, 892, 532,\n",
       "       479, 311, 412, 637, 208, 717, 659, 483,  84, 260, 928, 809, 196,\n",
       "       906, 144, 355, 836, 852, 275, 193, 870, 942, 282, 863, 649, 865,\n",
       "       958, 332, 174, 703, 140, 155, 517, 150, 176, 171, 257, 576, 439,\n",
       "       251, 111, 552, 242,  92, 285, 653, 539, 290, 414, 879, 274, 661,\n",
       "       506, 369, 779, 167, 191,  61, 768, 356, 110, 401, 629, 796, 389,\n",
       "       887, 956,  52, 367, 202, 246,  41, 106, 964, 842, 830, 816,  28,\n",
       "       198, 742,  31, 550,  99, 354, 700, 739, 619, 791, 557, 828, 581,\n",
       "       805, 982, 688,  45, 231, 394, 569, 324, 415, 250, 698, 936, 592,\n",
       "       307, 855, 536, 163, 735,  55, 759, 321, 881, 713, 359, 404, 749,\n",
       "       611,  29, 843, 620,  32, 600, 806, 820,  96,  62, 448, 172, 634,\n",
       "       579, 755, 200, 471, 965, 133, 667, 918, 366, 418, 145, 683, 459,\n",
       "       207, 419, 138, 553, 773, 103, 851, 562, 607, 215, 829, 458, 589,\n",
       "       978, 158, 913, 101, 204, 650, 245, 301, 617, 719, 502, 130, 986,\n",
       "       794, 546, 203,  66, 810,  86, 190, 186, 635, 960, 395, 390, 491,\n",
       "        77, 116, 578, 987, 966, 664, 541, 467, 736, 604, 679, 437, 984,\n",
       "       676, 745, 151, 436,  97, 854, 212, 715, 763, 398, 213, 425, 259,\n",
       "       244, 665, 815, 657, 905, 353, 572, 774, 148, 787, 342,  21,   7,\n",
       "       104, 232, 819, 222, 177, 761, 797, 985, 120, 135, 647, 127, 528,\n",
       "       441, 254, 470, 233,  10, 945, 901, 727,  49,  27, 464,  17, 249,\n",
       "       472, 847, 990, 750, 109, 229, 199,  74, 929, 461, 444, 434, 999,\n",
       "       738, 486, 375,  93, 490,  26, 220, 972, 278, 938, 559, 921,  81,\n",
       "       692, 503, 693, 861, 487, 205, 785, 387, 968, 201, 236, 645, 625,\n",
       "       384, 107,  68, 868, 935, 475, 772, 860, 767, 908, 141, 240, 950,\n",
       "       939, 493, 409, 705, 955, 814,  37, 477, 386,  89, 543, 512, 534,\n",
       "       451, 360, 714, 646, 808, 489, 519, 709, 315, 694, 164, 953, 585,\n",
       "        67, 710, 678, 734, 566, 392, 525, 775, 438, 291, 850, 933, 508,\n",
       "       348,  19,  83, 427, 807, 308, 677, 567, 729, 602, 555, 784, 658,\n",
       "       505, 994, 497, 777, 450,  18, 930,  42, 832, 521, 283, 156, 102,\n",
       "        53, 628, 522, 618, 239,  78, 182, 435, 426, 757, 269, 558,  48,\n",
       "       644, 790, 691, 288, 923, 571, 893, 544, 706, 626, 300, 917, 248,\n",
       "       453, 526,  59,  11, 547, 610, 462, 916, 271, 192, 268, 469, 312,\n",
       "       899, 195, 888, 758, 946, 934,  12, 636, 837, 728, 695, 640, 252,\n",
       "       613, 732, 631, 673, 134, 446, 388, 904, 675, 226, 292, 327, 548,\n",
       "        35, 811, 997, 989,  44, 793, 919, 417,  15, 838, 286, 586, 582,\n",
       "       265, 924, 403,  64,  71,  95, 666, 179, 383, 655, 310, 662, 256,\n",
       "       624, 993, 255, 235, 460, 294, 840, 996, 504, 121, 430, 835,  76,\n",
       "       995, 316, 778,   4, 862, 627, 912, 338, 223, 812, 129, 137, 457,\n",
       "       817, 801, 857, 270, 853,  75, 175, 431, 575, 277, 527, 374, 864,\n",
       "       262,  40, 329, 481, 570, 991, 185, 827, 701, 416, 276, 142, 492,\n",
       "       237, 551, 789, 211, 663, 309, 549, 385,  72, 716, 344, 564, 780,\n",
       "       668, 813, 243, 656, 654, 368, 756, 330,  24, 642,  25, 867,  20,\n",
       "       872,  13, 689, 920, 889, 306, 897, 672,  57, 334, 822, 225, 114,\n",
       "         0, 224,   6, 726, 152, 428, 432, 188, 297, 520, 372, 411, 147,\n",
       "       744, 139, 318, 937, 988, 702, 849, 173, 476, 485, 685, 524, 500,\n",
       "         2, 882, 948, 588, 443, 877, 686, 721, 117, 680,  60, 473, 381,\n",
       "       184, 878, 891, 652, 273, 456, 681, 632, 407, 339, 926, 639, 429,\n",
       "       760,  65, 302, 931, 433, 449, 408, 848, 298,   9, 731, 406, 112,\n",
       "       345, 115, 973, 821, 614, 380, 352, 770, 684, 466,  98, 124, 630,\n",
       "       927, 831, 804, 873, 648, 771, 281,  91, 932, 869, 724, 961, 149,\n",
       "       976, 326, 983, 206, 463, 209, 824, 336, 397, 399,  70,   1, 272,\n",
       "       707, 633, 599, 565, 166, 230, 697, 314, 944, 218, 210, 651, 925,\n",
       "       279, 351, 992, 740, 153, 391, 616, 340, 954, 482, 914, 410, 194,\n",
       "       247, 132, 825, 126, 216, 533, 598, 894, 516, 952, 157, 764,  22,\n",
       "       480, 969, 762, 128,   5, 165, 674, 227, 494, 725, 967, 447, 341,\n",
       "       615, 638, 514, 495, 370, 118, 234, 442, 941, 228, 169, 696, 455,\n",
       "       595,  80, 839, 296, 335, 445, 962,  88, 723, 529, 293, 377, 733,\n",
       "        34, 608, 501, 977, 730, 622, 241, 331, 454, 465, 834, 875, 322,\n",
       "       940, 560, 105, 911, 669, 197, 754, 841, 970, 737, 474, 583, 826,\n",
       "       687, 584, 313,  58, 452, 895, 423, 146, 530,  90,  51, 162,  14,\n",
       "       396, 287, 113, 660, 593, 365, 803, 596, 542, 792, 751, 154, 998,\n",
       "       180, 720, 795, 782, 823, 183,  87, 305, 143, 515, 753, 181,  16,\n",
       "       951, 974, 722, 267, 776, 253, 440, 393,  56, 488, 980, 612, 859,\n",
       "       915, 769, 858, 743, 379,  82, 337, 357, 421, 833, 131, 513])"
      ]
     },
     "execution_count": 22,
     "metadata": {},
     "output_type": "execute_result"
    }
   ],
   "source": [
    "\n",
    "le_bloodoxygen = LabelEncoder()\n",
    "df['BloodOxygenLevel'] = le_bloodoxygen.fit_transform(df['BloodOxygenLevel'])\n",
    "df[\"BloodOxygenLevel\"].unique()\n"
   ]
  },
  {
   "cell_type": "code",
   "execution_count": null,
   "metadata": {},
   "outputs": [
    {
     "data": {
      "text/plain": [
       "array([167, 156, 218, 180, 364, 346, 681, 405,  84, 182, 637, 560, 151,\n",
       "       198,  95, 471, 102, 868, 341, 704, 130, 696, 518, 458, 308, 610,\n",
       "       398,  16, 300,  87, 907, 690, 352, 295, 541, 996, 588, 718, 274,\n",
       "       148, 347, 568,  98, 501, 382, 605, 377, 717, 798, 271, 558, 584,\n",
       "       124,  59, 975,  13, 142, 530, 670,  28,  10, 843, 379, 550,  60,\n",
       "       440, 165, 969, 212, 187, 189, 469, 994, 641, 288, 338, 779, 845,\n",
       "       492, 113, 626, 931, 631, 340, 745, 462, 985, 663, 945, 678, 974,\n",
       "       438, 229, 171, 748, 515, 309,  25, 758, 970,  30, 239, 715, 875,\n",
       "       279, 294, 714,  75,  37, 697, 832,  41, 473, 983, 133, 441, 394,\n",
       "       824, 495, 890, 821, 577, 859, 545, 944, 831, 276, 581, 158,  91,\n",
       "       968, 210, 760, 298, 830, 918, 362, 254, 409, 207, 949, 536, 930,\n",
       "       483, 114, 902, 816, 200,  63, 684, 775, 813, 655, 426, 122, 491,\n",
       "       928, 679, 842, 514, 976, 987, 205, 960,  21, 889, 498, 235, 499,\n",
       "       245, 709, 186, 846,  55, 919, 146, 891, 439, 674, 195,  88, 992,\n",
       "       132, 431, 293, 659, 763, 967, 126, 780, 384, 988,  80, 304, 481,\n",
       "       785, 468, 503, 390,  29, 178, 841, 455, 250, 632, 320, 449, 621,\n",
       "       935, 856,  12, 804, 150, 999, 608, 561, 724,  11, 381, 192, 901,\n",
       "       461, 691, 155, 660, 185, 612, 450, 168, 157, 731, 494, 493,   0,\n",
       "       625, 327,  24, 262, 900, 870,   1, 402, 814,  36, 510, 820, 979,\n",
       "       622, 854, 141, 761, 115, 310, 754, 427, 120, 662, 184, 255, 233,\n",
       "         2,   6, 134, 668, 716, 225, 302, 176, 639, 246, 737, 943, 658,\n",
       "       710, 496, 767, 938, 966, 570, 706, 547, 647, 609, 312, 682, 222,\n",
       "       895, 117, 789, 264, 425, 982,   3, 488, 733, 430, 319, 260, 711,\n",
       "       959, 479, 112,  54, 786, 343, 693, 355, 749, 835,   4, 876, 147,\n",
       "        50, 136, 154, 321, 905, 851, 152, 332, 986, 478, 263,  17,  94,\n",
       "       642, 540,  39, 563, 467, 145, 903,  26,  66, 852, 603,  15, 244,\n",
       "       292, 860, 934, 634, 720, 774, 861, 908, 199, 965,  44, 898, 644,\n",
       "       955, 624, 251, 417,  45, 759,   7, 389, 661, 373, 606, 428, 376,\n",
       "       556, 529, 490, 482,  79, 783, 892, 397, 316, 961, 947, 256,   9,\n",
       "       740, 736, 865, 858, 268, 886, 651, 602, 973, 349, 822, 204, 190,\n",
       "       543, 896, 893, 837, 562, 648, 282, 756, 964, 669, 723, 422,  83,\n",
       "       485, 712,  49, 611, 448, 313, 801, 778, 507,  18, 127, 580, 912,\n",
       "         5, 863, 877, 839, 800, 654, 419, 420, 884, 680,  73, 589, 991,\n",
       "       567, 437, 297, 234,  77,  69, 840, 590, 978, 998, 411, 694, 525,\n",
       "       828, 328, 849, 705, 191, 667, 921, 354, 443, 487, 575, 808, 997,\n",
       "       887, 470, 533,  34, 472, 989, 640,  99, 557, 524, 604, 790, 436,\n",
       "        19, 197, 253, 202, 424, 838, 446, 323, 385, 686, 629, 869, 528,\n",
       "       520, 867, 762, 331, 121, 504, 149, 594, 516, 768, 269, 337, 237,\n",
       "        70, 713, 750, 511, 909, 153, 305, 569, 619, 703, 553, 358,  32,\n",
       "       615, 497, 598, 183, 123, 574, 395, 963, 215, 299, 548, 388,  72,\n",
       "       765, 278, 565, 675, 956, 138, 330, 650, 702, 936, 542, 636, 915,\n",
       "       904, 291, 601, 238, 573, 311, 848, 807, 564, 270, 209, 617, 275,\n",
       "       937, 475,  43, 335, 566, 399,  62, 110, 281, 538, 393, 823, 162,\n",
       "       432, 442, 404, 971, 685, 687, 118, 521, 109, 721, 672, 879, 445,\n",
       "       532, 374, 324, 219, 993,  86, 101, 799, 559, 735, 676, 952, 911,\n",
       "       351, 623, 855, 143, 599, 665, 916, 226, 236, 827, 853, 769, 519,\n",
       "       413, 517, 140, 111, 401,  81, 179, 782, 286, 810, 701, 166, 502,\n",
       "        67,  78, 725, 365,  64, 227, 348, 726, 844, 322, 345, 447, 283,\n",
       "       582, 194,  40, 463, 950, 862, 708, 370,  65, 646, 847, 243, 175,\n",
       "       353, 795, 698, 232, 284, 591, 350, 372, 873, 554, 307, 104, 981,\n",
       "       878, 208, 787, 834, 512,  51, 829, 523, 635, 203, 476, 403, 173,\n",
       "       885, 230, 135, 977, 342, 366, 784, 267, 833, 164, 257,  14, 722,\n",
       "        61, 794, 193, 596, 913, 221, 866,  82,  20, 942, 586, 776, 572,\n",
       "       728, 752,  46, 806, 836, 326, 241,  56, 633, 434, 249, 695,  57,\n",
       "       683, 880, 163, 864, 689, 923, 627, 303, 730, 546, 453, 692, 552,\n",
       "       357, 688, 583, 764, 306, 160, 105, 361, 290, 555, 334, 181, 217,\n",
       "        38,  71,  90, 797, 159,  48, 315, 174, 700, 359, 850, 941,  89,\n",
       "       551, 929, 805, 809, 466, 815, 825, 614, 872, 457, 653, 772, 948,\n",
       "       803, 954, 534, 753, 100, 296, 506, 406, 883, 363, 781, 593, 220,\n",
       "       415, 333,  52, 265, 414, 946, 196, 287, 144, 571, 129,  27, 766,\n",
       "       882, 922, 729, 368, 592, 578,  68, 317, 826, 513, 791, 924, 223,\n",
       "       595, 771, 707, 932, 103,  92,  96, 484, 371, 917, 958, 314, 505,\n",
       "       585,  31, 871, 277, 618, 464, 744, 962, 894, 289, 933, 380, 549,\n",
       "       273, 356, 460, 616, 231, 410, 169, 645,  97, 656, 369, 613, 344,\n",
       "       423, 940, 429, 732, 508, 990, 459, 719, 435, 755, 116, 739, 131,\n",
       "       378,  85, 387, 444, 456,  33, 630, 329, 477, 451, 216, 742, 522,\n",
       "       897, 995, 509, 412, 652, 454, 252, 280, 953, 738, 600, 874, 400,\n",
       "       106, 727, 247, 587, 699, 857, 248, 408, 906, 500, 177, 272, 579,\n",
       "       224,  22, 259, 951, 161, 734, 539, 881, 360, 206,  93, 773, 211,\n",
       "       888, 416, 796, 119, 407, 367, 914,  58, 643, 920, 817, 325, 386,\n",
       "       673, 984, 392, 671, 664, 535, 213, 747, 812, 214, 819, 638, 777,\n",
       "       925, 396, 980, 421,  47, 261,  42, 172, 137, 240, 957, 465,  35,\n",
       "       383, 480, 544, 743,  53, 474, 649, 746, 793, 339, 677, 228, 489,\n",
       "       597, 258, 757, 926, 108, 537, 811, 128, 391, 486, 576, 139, 107,\n",
       "       788, 375, 301, 972, 741, 188, 266, 818, 666, 802, 336, 242, 527,\n",
       "       910, 628,  23, 526, 657, 285, 418, 792, 433, 770, 201, 751, 452,\n",
       "        74, 318, 125, 531,  76, 939, 620,   8, 899, 607, 927, 170])"
      ]
     },
     "execution_count": 23,
     "metadata": {},
     "output_type": "execute_result"
    }
   ],
   "source": [
    "\n",
    "le_weight = LabelEncoder()\n",
    "df['Weight'] = le_weight.fit_transform(df['Weight'])\n",
    "df[\"Weight\"].unique()\n"
   ]
  },
  {
   "cell_type": "code",
   "execution_count": null,
   "metadata": {},
   "outputs": [
    {
     "data": {
      "text/plain": [
       "array([ 0,  1,  9, 18, 17,  7, 27,  6, 13, 16,  4, 30, 29, 12, 25, 10, 15,\n",
       "       11, 28,  3, 23, 14, 19,  5,  2, 22, 24,  8, 21, 20, 26])"
      ]
     },
     "execution_count": 24,
     "metadata": {},
     "output_type": "execute_result"
    }
   ],
   "source": [
    "\n",
    "le_age = LabelEncoder()\n",
    "df['Age'] = le_age.fit_transform(df['Age'])\n",
    "df[\"Age\"].unique()\n"
   ]
  },
  {
   "cell_type": "code",
   "execution_count": null,
   "metadata": {},
   "outputs": [
    {
     "data": {
      "text/plain": [
       "array([0, 1])"
      ]
     },
     "execution_count": 25,
     "metadata": {},
     "output_type": "execute_result"
    }
   ],
   "source": [
    "\n",
    "le_gender = LabelEncoder()\n",
    "df['Gender'] = le_gender.fit_transform(df['Gender'])\n",
    "df[\"Gender\"].unique()\n"
   ]
  },
  {
   "cell_type": "code",
   "execution_count": null,
   "metadata": {},
   "outputs": [
    {
     "data": {
      "text/plain": [
       "array([2, 1, 0])"
      ]
     },
     "execution_count": 26,
     "metadata": {},
     "output_type": "execute_result"
    }
   ],
   "source": [
    "\n",
    "le_physicalact = LabelEncoder()\n",
    "df['Physical_Activity'] = le_gender.fit_transform(df['Physical_Activity'])\n",
    "df[\"Physical_Activity\"].unique()\n"
   ]
  },
  {
   "cell_type": "code",
   "execution_count": null,
   "metadata": {},
   "outputs": [
    {
     "data": {
      "text/plain": [
       "array([0, 1])"
      ]
     },
     "execution_count": 27,
     "metadata": {},
     "output_type": "execute_result"
    }
   ],
   "source": [
    "\n",
    "le_depression = LabelEncoder()\n",
    "df['Depression_Status'] = le_depression.fit_transform(df['Depression_Status'])\n",
    "df[\"Depression_Status\"].unique()\n"
   ]
  },
  {
   "cell_type": "code",
   "execution_count": null,
   "metadata": {},
   "outputs": [
    {
     "data": {
      "text/plain": [
       "array([1, 2, 0])"
      ]
     },
     "execution_count": 28,
     "metadata": {},
     "output_type": "execute_result"
    }
   ],
   "source": [
    "\n",
    "le_nutrition = LabelEncoder()\n",
    "df['Nutrition_Diet'] = le_nutrition.fit_transform(df['Nutrition_Diet'])\n",
    "df[\"Nutrition_Diet\"].unique()\n"
   ]
  },
  {
   "cell_type": "code",
   "execution_count": null,
   "metadata": {},
   "outputs": [
    {
     "data": {
      "text/plain": [
       "array([1, 0])"
      ]
     },
     "execution_count": 29,
     "metadata": {},
     "output_type": "execute_result"
    }
   ],
   "source": [
    "\n",
    "le_sleep = LabelEncoder()\n",
    "df['Sleep_Quality'] = le_sleep.fit_transform(df['Sleep_Quality'])\n",
    "df[\"Sleep_Quality\"].unique()\n"
   ]
  },
  {
   "cell_type": "code",
   "execution_count": null,
   "metadata": {},
   "outputs": [],
   "source": [
    "\n",
    "X = df.drop(\"Diabetic\", axis=1)\n",
    "y = df[\"Diabetic\"]\n"
   ]
  },
  {
   "cell_type": "code",
   "execution_count": null,
   "metadata": {},
   "outputs": [
    {
     "data": {
      "text/html": [
       "<style>#sk-container-id-1 {color: black;}#sk-container-id-1 pre{padding: 0;}#sk-container-id-1 div.sk-toggleable {background-color: white;}#sk-container-id-1 label.sk-toggleable__label {cursor: pointer;display: block;width: 100%;margin-bottom: 0;padding: 0.3em;box-sizing: border-box;text-align: center;}#sk-container-id-1 label.sk-toggleable__label-arrow:before {content: \"▸\";float: left;margin-right: 0.25em;color: #696969;}#sk-container-id-1 label.sk-toggleable__label-arrow:hover:before {color: black;}#sk-container-id-1 div.sk-estimator:hover label.sk-toggleable__label-arrow:before {color: black;}#sk-container-id-1 div.sk-toggleable__content {max-height: 0;max-width: 0;overflow: hidden;text-align: left;background-color: #f0f8ff;}#sk-container-id-1 div.sk-toggleable__content pre {margin: 0.2em;color: black;border-radius: 0.25em;background-color: #f0f8ff;}#sk-container-id-1 input.sk-toggleable__control:checked~div.sk-toggleable__content {max-height: 200px;max-width: 100%;overflow: auto;}#sk-container-id-1 input.sk-toggleable__control:checked~label.sk-toggleable__label-arrow:before {content: \"▾\";}#sk-container-id-1 div.sk-estimator input.sk-toggleable__control:checked~label.sk-toggleable__label {background-color: #d4ebff;}#sk-container-id-1 div.sk-label input.sk-toggleable__control:checked~label.sk-toggleable__label {background-color: #d4ebff;}#sk-container-id-1 input.sk-hidden--visually {border: 0;clip: rect(1px 1px 1px 1px);clip: rect(1px, 1px, 1px, 1px);height: 1px;margin: -1px;overflow: hidden;padding: 0;position: absolute;width: 1px;}#sk-container-id-1 div.sk-estimator {font-family: monospace;background-color: #f0f8ff;border: 1px dotted black;border-radius: 0.25em;box-sizing: border-box;margin-bottom: 0.5em;}#sk-container-id-1 div.sk-estimator:hover {background-color: #d4ebff;}#sk-container-id-1 div.sk-parallel-item::after {content: \"\";width: 100%;border-bottom: 1px solid gray;flex-grow: 1;}#sk-container-id-1 div.sk-label:hover label.sk-toggleable__label {background-color: #d4ebff;}#sk-container-id-1 div.sk-serial::before {content: \"\";position: absolute;border-left: 1px solid gray;box-sizing: border-box;top: 0;bottom: 0;left: 50%;z-index: 0;}#sk-container-id-1 div.sk-serial {display: flex;flex-direction: column;align-items: center;background-color: white;padding-right: 0.2em;padding-left: 0.2em;position: relative;}#sk-container-id-1 div.sk-item {position: relative;z-index: 1;}#sk-container-id-1 div.sk-parallel {display: flex;align-items: stretch;justify-content: center;background-color: white;position: relative;}#sk-container-id-1 div.sk-item::before, #sk-container-id-1 div.sk-parallel-item::before {content: \"\";position: absolute;border-left: 1px solid gray;box-sizing: border-box;top: 0;bottom: 0;left: 50%;z-index: -1;}#sk-container-id-1 div.sk-parallel-item {display: flex;flex-direction: column;z-index: 1;position: relative;background-color: white;}#sk-container-id-1 div.sk-parallel-item:first-child::after {align-self: flex-end;width: 50%;}#sk-container-id-1 div.sk-parallel-item:last-child::after {align-self: flex-start;width: 50%;}#sk-container-id-1 div.sk-parallel-item:only-child::after {width: 0;}#sk-container-id-1 div.sk-dashed-wrapped {border: 1px dashed gray;margin: 0 0.4em 0.5em 0.4em;box-sizing: border-box;padding-bottom: 0.4em;background-color: white;}#sk-container-id-1 div.sk-label label {font-family: monospace;font-weight: bold;display: inline-block;line-height: 1.2em;}#sk-container-id-1 div.sk-label-container {text-align: center;}#sk-container-id-1 div.sk-container {/* jupyter's `normalize.less` sets `[hidden] { display: none; }` but bootstrap.min.css set `[hidden] { display: none !important; }` so we also need the `!important` here to be able to override the default hidden behavior on the sphinx rendered scikit-learn.org. See: https://github.com/scikit-learn/scikit-learn/issues/21755 */display: inline-block !important;position: relative;}#sk-container-id-1 div.sk-text-repr-fallback {display: none;}</style><div id=\"sk-container-id-1\" class=\"sk-top-container\"><div class=\"sk-text-repr-fallback\"><pre>LinearRegression()</pre><b>In a Jupyter environment, please rerun this cell to show the HTML representation or trust the notebook. <br />On GitHub, the HTML representation is unable to render, please try loading this page with nbviewer.org.</b></div><div class=\"sk-container\" hidden><div class=\"sk-item\"><div class=\"sk-estimator sk-toggleable\"><input class=\"sk-toggleable__control sk-hidden--visually\" id=\"sk-estimator-id-1\" type=\"checkbox\" checked><label for=\"sk-estimator-id-1\" class=\"sk-toggleable__label sk-toggleable__label-arrow\">LinearRegression</label><div class=\"sk-toggleable__content\"><pre>LinearRegression()</pre></div></div></div></div></div>"
      ],
      "text/plain": [
       "LinearRegression()"
      ]
     },
     "execution_count": 31,
     "metadata": {},
     "output_type": "execute_result"
    }
   ],
   "source": [
    "\n",
    "from sklearn.linear_model import LinearRegression\n",
    "linear_reg = LinearRegression()\n",
    "linear_reg.fit(X, y.values)\n"
   ]
  },
  {
   "cell_type": "code",
   "execution_count": null,
   "metadata": {},
   "outputs": [],
   "source": [
    "\n",
    "y_pred = linear_reg.predict(X)\n"
   ]
  },
  {
   "cell_type": "code",
   "execution_count": null,
   "metadata": {},
   "outputs": [],
   "source": [
    "\n",
    "from sklearn.metrics import mean_squared_error, mean_absolute_error\n",
    "import numpy as np\n",
    "error = np.sqrt(mean_squared_error(y, y_pred))\n"
   ]
  },
  {
   "cell_type": "code",
   "execution_count": null,
   "metadata": {},
   "outputs": [
    {
     "data": {
      "text/plain": [
       "0.4953914698533163"
      ]
     },
     "execution_count": 34,
     "metadata": {},
     "output_type": "execute_result"
    }
   ],
   "source": [
    "\n",
    "error\n"
   ]
  },
  {
   "cell_type": "code",
   "execution_count": null,
   "metadata": {},
   "outputs": [
    {
     "data": {
      "text/html": [
       "<style>#sk-container-id-2 {color: black;}#sk-container-id-2 pre{padding: 0;}#sk-container-id-2 div.sk-toggleable {background-color: white;}#sk-container-id-2 label.sk-toggleable__label {cursor: pointer;display: block;width: 100%;margin-bottom: 0;padding: 0.3em;box-sizing: border-box;text-align: center;}#sk-container-id-2 label.sk-toggleable__label-arrow:before {content: \"▸\";float: left;margin-right: 0.25em;color: #696969;}#sk-container-id-2 label.sk-toggleable__label-arrow:hover:before {color: black;}#sk-container-id-2 div.sk-estimator:hover label.sk-toggleable__label-arrow:before {color: black;}#sk-container-id-2 div.sk-toggleable__content {max-height: 0;max-width: 0;overflow: hidden;text-align: left;background-color: #f0f8ff;}#sk-container-id-2 div.sk-toggleable__content pre {margin: 0.2em;color: black;border-radius: 0.25em;background-color: #f0f8ff;}#sk-container-id-2 input.sk-toggleable__control:checked~div.sk-toggleable__content {max-height: 200px;max-width: 100%;overflow: auto;}#sk-container-id-2 input.sk-toggleable__control:checked~label.sk-toggleable__label-arrow:before {content: \"▾\";}#sk-container-id-2 div.sk-estimator input.sk-toggleable__control:checked~label.sk-toggleable__label {background-color: #d4ebff;}#sk-container-id-2 div.sk-label input.sk-toggleable__control:checked~label.sk-toggleable__label {background-color: #d4ebff;}#sk-container-id-2 input.sk-hidden--visually {border: 0;clip: rect(1px 1px 1px 1px);clip: rect(1px, 1px, 1px, 1px);height: 1px;margin: -1px;overflow: hidden;padding: 0;position: absolute;width: 1px;}#sk-container-id-2 div.sk-estimator {font-family: monospace;background-color: #f0f8ff;border: 1px dotted black;border-radius: 0.25em;box-sizing: border-box;margin-bottom: 0.5em;}#sk-container-id-2 div.sk-estimator:hover {background-color: #d4ebff;}#sk-container-id-2 div.sk-parallel-item::after {content: \"\";width: 100%;border-bottom: 1px solid gray;flex-grow: 1;}#sk-container-id-2 div.sk-label:hover label.sk-toggleable__label {background-color: #d4ebff;}#sk-container-id-2 div.sk-serial::before {content: \"\";position: absolute;border-left: 1px solid gray;box-sizing: border-box;top: 0;bottom: 0;left: 50%;z-index: 0;}#sk-container-id-2 div.sk-serial {display: flex;flex-direction: column;align-items: center;background-color: white;padding-right: 0.2em;padding-left: 0.2em;position: relative;}#sk-container-id-2 div.sk-item {position: relative;z-index: 1;}#sk-container-id-2 div.sk-parallel {display: flex;align-items: stretch;justify-content: center;background-color: white;position: relative;}#sk-container-id-2 div.sk-item::before, #sk-container-id-2 div.sk-parallel-item::before {content: \"\";position: absolute;border-left: 1px solid gray;box-sizing: border-box;top: 0;bottom: 0;left: 50%;z-index: -1;}#sk-container-id-2 div.sk-parallel-item {display: flex;flex-direction: column;z-index: 1;position: relative;background-color: white;}#sk-container-id-2 div.sk-parallel-item:first-child::after {align-self: flex-end;width: 50%;}#sk-container-id-2 div.sk-parallel-item:last-child::after {align-self: flex-start;width: 50%;}#sk-container-id-2 div.sk-parallel-item:only-child::after {width: 0;}#sk-container-id-2 div.sk-dashed-wrapped {border: 1px dashed gray;margin: 0 0.4em 0.5em 0.4em;box-sizing: border-box;padding-bottom: 0.4em;background-color: white;}#sk-container-id-2 div.sk-label label {font-family: monospace;font-weight: bold;display: inline-block;line-height: 1.2em;}#sk-container-id-2 div.sk-label-container {text-align: center;}#sk-container-id-2 div.sk-container {/* jupyter's `normalize.less` sets `[hidden] { display: none; }` but bootstrap.min.css set `[hidden] { display: none !important; }` so we also need the `!important` here to be able to override the default hidden behavior on the sphinx rendered scikit-learn.org. See: https://github.com/scikit-learn/scikit-learn/issues/21755 */display: inline-block !important;position: relative;}#sk-container-id-2 div.sk-text-repr-fallback {display: none;}</style><div id=\"sk-container-id-2\" class=\"sk-top-container\"><div class=\"sk-text-repr-fallback\"><pre>DecisionTreeRegressor(random_state=0)</pre><b>In a Jupyter environment, please rerun this cell to show the HTML representation or trust the notebook. <br />On GitHub, the HTML representation is unable to render, please try loading this page with nbviewer.org.</b></div><div class=\"sk-container\" hidden><div class=\"sk-item\"><div class=\"sk-estimator sk-toggleable\"><input class=\"sk-toggleable__control sk-hidden--visually\" id=\"sk-estimator-id-2\" type=\"checkbox\" checked><label for=\"sk-estimator-id-2\" class=\"sk-toggleable__label sk-toggleable__label-arrow\">DecisionTreeRegressor</label><div class=\"sk-toggleable__content\"><pre>DecisionTreeRegressor(random_state=0)</pre></div></div></div></div></div>"
      ],
      "text/plain": [
       "DecisionTreeRegressor(random_state=0)"
      ]
     },
     "execution_count": 35,
     "metadata": {},
     "output_type": "execute_result"
    }
   ],
   "source": [
    "\n",
    "from sklearn.tree import DecisionTreeRegressor\n",
    "dec_tree_reg = DecisionTreeRegressor(random_state=0)\n",
    "dec_tree_reg.fit(X, y.values)\n"
   ]
  },
  {
   "cell_type": "code",
   "execution_count": null,
   "metadata": {},
   "outputs": [],
   "source": [
    "\n",
    "y_pred = dec_tree_reg.predict(X)\n"
   ]
  },
  {
   "cell_type": "code",
   "execution_count": null,
   "metadata": {},
   "outputs": [
    {
     "name": "stdout",
     "output_type": "stream",
     "text": [
      "0.00\n"
     ]
    }
   ],
   "source": [
    "\n",
    "error = np.sqrt(mean_squared_error(y, y_pred))\n",
    "print(\"{:,.02f}\".format(error))\n"
   ]
  },
  {
   "cell_type": "code",
   "execution_count": null,
   "metadata": {},
   "outputs": [
    {
     "data": {
      "text/html": [
       "<style>#sk-container-id-3 {color: black;}#sk-container-id-3 pre{padding: 0;}#sk-container-id-3 div.sk-toggleable {background-color: white;}#sk-container-id-3 label.sk-toggleable__label {cursor: pointer;display: block;width: 100%;margin-bottom: 0;padding: 0.3em;box-sizing: border-box;text-align: center;}#sk-container-id-3 label.sk-toggleable__label-arrow:before {content: \"▸\";float: left;margin-right: 0.25em;color: #696969;}#sk-container-id-3 label.sk-toggleable__label-arrow:hover:before {color: black;}#sk-container-id-3 div.sk-estimator:hover label.sk-toggleable__label-arrow:before {color: black;}#sk-container-id-3 div.sk-toggleable__content {max-height: 0;max-width: 0;overflow: hidden;text-align: left;background-color: #f0f8ff;}#sk-container-id-3 div.sk-toggleable__content pre {margin: 0.2em;color: black;border-radius: 0.25em;background-color: #f0f8ff;}#sk-container-id-3 input.sk-toggleable__control:checked~div.sk-toggleable__content {max-height: 200px;max-width: 100%;overflow: auto;}#sk-container-id-3 input.sk-toggleable__control:checked~label.sk-toggleable__label-arrow:before {content: \"▾\";}#sk-container-id-3 div.sk-estimator input.sk-toggleable__control:checked~label.sk-toggleable__label {background-color: #d4ebff;}#sk-container-id-3 div.sk-label input.sk-toggleable__control:checked~label.sk-toggleable__label {background-color: #d4ebff;}#sk-container-id-3 input.sk-hidden--visually {border: 0;clip: rect(1px 1px 1px 1px);clip: rect(1px, 1px, 1px, 1px);height: 1px;margin: -1px;overflow: hidden;padding: 0;position: absolute;width: 1px;}#sk-container-id-3 div.sk-estimator {font-family: monospace;background-color: #f0f8ff;border: 1px dotted black;border-radius: 0.25em;box-sizing: border-box;margin-bottom: 0.5em;}#sk-container-id-3 div.sk-estimator:hover {background-color: #d4ebff;}#sk-container-id-3 div.sk-parallel-item::after {content: \"\";width: 100%;border-bottom: 1px solid gray;flex-grow: 1;}#sk-container-id-3 div.sk-label:hover label.sk-toggleable__label {background-color: #d4ebff;}#sk-container-id-3 div.sk-serial::before {content: \"\";position: absolute;border-left: 1px solid gray;box-sizing: border-box;top: 0;bottom: 0;left: 50%;z-index: 0;}#sk-container-id-3 div.sk-serial {display: flex;flex-direction: column;align-items: center;background-color: white;padding-right: 0.2em;padding-left: 0.2em;position: relative;}#sk-container-id-3 div.sk-item {position: relative;z-index: 1;}#sk-container-id-3 div.sk-parallel {display: flex;align-items: stretch;justify-content: center;background-color: white;position: relative;}#sk-container-id-3 div.sk-item::before, #sk-container-id-3 div.sk-parallel-item::before {content: \"\";position: absolute;border-left: 1px solid gray;box-sizing: border-box;top: 0;bottom: 0;left: 50%;z-index: -1;}#sk-container-id-3 div.sk-parallel-item {display: flex;flex-direction: column;z-index: 1;position: relative;background-color: white;}#sk-container-id-3 div.sk-parallel-item:first-child::after {align-self: flex-end;width: 50%;}#sk-container-id-3 div.sk-parallel-item:last-child::after {align-self: flex-start;width: 50%;}#sk-container-id-3 div.sk-parallel-item:only-child::after {width: 0;}#sk-container-id-3 div.sk-dashed-wrapped {border: 1px dashed gray;margin: 0 0.4em 0.5em 0.4em;box-sizing: border-box;padding-bottom: 0.4em;background-color: white;}#sk-container-id-3 div.sk-label label {font-family: monospace;font-weight: bold;display: inline-block;line-height: 1.2em;}#sk-container-id-3 div.sk-label-container {text-align: center;}#sk-container-id-3 div.sk-container {/* jupyter's `normalize.less` sets `[hidden] { display: none; }` but bootstrap.min.css set `[hidden] { display: none !important; }` so we also need the `!important` here to be able to override the default hidden behavior on the sphinx rendered scikit-learn.org. See: https://github.com/scikit-learn/scikit-learn/issues/21755 */display: inline-block !important;position: relative;}#sk-container-id-3 div.sk-text-repr-fallback {display: none;}</style><div id=\"sk-container-id-3\" class=\"sk-top-container\"><div class=\"sk-text-repr-fallback\"><pre>RandomForestRegressor(random_state=0)</pre><b>In a Jupyter environment, please rerun this cell to show the HTML representation or trust the notebook. <br />On GitHub, the HTML representation is unable to render, please try loading this page with nbviewer.org.</b></div><div class=\"sk-container\" hidden><div class=\"sk-item\"><div class=\"sk-estimator sk-toggleable\"><input class=\"sk-toggleable__control sk-hidden--visually\" id=\"sk-estimator-id-3\" type=\"checkbox\" checked><label for=\"sk-estimator-id-3\" class=\"sk-toggleable__label sk-toggleable__label-arrow\">RandomForestRegressor</label><div class=\"sk-toggleable__content\"><pre>RandomForestRegressor(random_state=0)</pre></div></div></div></div></div>"
      ],
      "text/plain": [
       "RandomForestRegressor(random_state=0)"
      ]
     },
     "execution_count": 38,
     "metadata": {},
     "output_type": "execute_result"
    }
   ],
   "source": [
    "\n",
    "from sklearn.ensemble import RandomForestRegressor\n",
    "random_forest_reg = RandomForestRegressor(random_state=0)\n",
    "random_forest_reg.fit(X, y.values)\n"
   ]
  },
  {
   "cell_type": "code",
   "execution_count": null,
   "metadata": {},
   "outputs": [],
   "source": [
    "y_pred = random_forest_reg.predict(X)\n"
   ]
  },
  {
   "cell_type": "code",
   "execution_count": null,
   "metadata": {},
   "outputs": [
    {
     "name": "stdout",
     "output_type": "stream",
     "text": [
      "0.19\n"
     ]
    }
   ],
   "source": [
    "error = np.sqrt(mean_squared_error(y, y_pred))\n",
    "print(\"{:,.02f}\".format(error))"
   ]
  },
  {
   "cell_type": "code",
   "execution_count": null,
   "metadata": {},
   "outputs": [
    {
     "data": {
      "text/html": [
       "<style>#sk-container-id-4 {color: black;}#sk-container-id-4 pre{padding: 0;}#sk-container-id-4 div.sk-toggleable {background-color: white;}#sk-container-id-4 label.sk-toggleable__label {cursor: pointer;display: block;width: 100%;margin-bottom: 0;padding: 0.3em;box-sizing: border-box;text-align: center;}#sk-container-id-4 label.sk-toggleable__label-arrow:before {content: \"▸\";float: left;margin-right: 0.25em;color: #696969;}#sk-container-id-4 label.sk-toggleable__label-arrow:hover:before {color: black;}#sk-container-id-4 div.sk-estimator:hover label.sk-toggleable__label-arrow:before {color: black;}#sk-container-id-4 div.sk-toggleable__content {max-height: 0;max-width: 0;overflow: hidden;text-align: left;background-color: #f0f8ff;}#sk-container-id-4 div.sk-toggleable__content pre {margin: 0.2em;color: black;border-radius: 0.25em;background-color: #f0f8ff;}#sk-container-id-4 input.sk-toggleable__control:checked~div.sk-toggleable__content {max-height: 200px;max-width: 100%;overflow: auto;}#sk-container-id-4 input.sk-toggleable__control:checked~label.sk-toggleable__label-arrow:before {content: \"▾\";}#sk-container-id-4 div.sk-estimator input.sk-toggleable__control:checked~label.sk-toggleable__label {background-color: #d4ebff;}#sk-container-id-4 div.sk-label input.sk-toggleable__control:checked~label.sk-toggleable__label {background-color: #d4ebff;}#sk-container-id-4 input.sk-hidden--visually {border: 0;clip: rect(1px 1px 1px 1px);clip: rect(1px, 1px, 1px, 1px);height: 1px;margin: -1px;overflow: hidden;padding: 0;position: absolute;width: 1px;}#sk-container-id-4 div.sk-estimator {font-family: monospace;background-color: #f0f8ff;border: 1px dotted black;border-radius: 0.25em;box-sizing: border-box;margin-bottom: 0.5em;}#sk-container-id-4 div.sk-estimator:hover {background-color: #d4ebff;}#sk-container-id-4 div.sk-parallel-item::after {content: \"\";width: 100%;border-bottom: 1px solid gray;flex-grow: 1;}#sk-container-id-4 div.sk-label:hover label.sk-toggleable__label {background-color: #d4ebff;}#sk-container-id-4 div.sk-serial::before {content: \"\";position: absolute;border-left: 1px solid gray;box-sizing: border-box;top: 0;bottom: 0;left: 50%;z-index: 0;}#sk-container-id-4 div.sk-serial {display: flex;flex-direction: column;align-items: center;background-color: white;padding-right: 0.2em;padding-left: 0.2em;position: relative;}#sk-container-id-4 div.sk-item {position: relative;z-index: 1;}#sk-container-id-4 div.sk-parallel {display: flex;align-items: stretch;justify-content: center;background-color: white;position: relative;}#sk-container-id-4 div.sk-item::before, #sk-container-id-4 div.sk-parallel-item::before {content: \"\";position: absolute;border-left: 1px solid gray;box-sizing: border-box;top: 0;bottom: 0;left: 50%;z-index: -1;}#sk-container-id-4 div.sk-parallel-item {display: flex;flex-direction: column;z-index: 1;position: relative;background-color: white;}#sk-container-id-4 div.sk-parallel-item:first-child::after {align-self: flex-end;width: 50%;}#sk-container-id-4 div.sk-parallel-item:last-child::after {align-self: flex-start;width: 50%;}#sk-container-id-4 div.sk-parallel-item:only-child::after {width: 0;}#sk-container-id-4 div.sk-dashed-wrapped {border: 1px dashed gray;margin: 0 0.4em 0.5em 0.4em;box-sizing: border-box;padding-bottom: 0.4em;background-color: white;}#sk-container-id-4 div.sk-label label {font-family: monospace;font-weight: bold;display: inline-block;line-height: 1.2em;}#sk-container-id-4 div.sk-label-container {text-align: center;}#sk-container-id-4 div.sk-container {/* jupyter's `normalize.less` sets `[hidden] { display: none; }` but bootstrap.min.css set `[hidden] { display: none !important; }` so we also need the `!important` here to be able to override the default hidden behavior on the sphinx rendered scikit-learn.org. See: https://github.com/scikit-learn/scikit-learn/issues/21755 */display: inline-block !important;position: relative;}#sk-container-id-4 div.sk-text-repr-fallback {display: none;}</style><div id=\"sk-container-id-4\" class=\"sk-top-container\"><div class=\"sk-text-repr-fallback\"><pre>GridSearchCV(estimator=DecisionTreeRegressor(random_state=0),\n",
       "             param_grid={&#x27;max_depth&#x27;: [None, 2, 4, 6, 8, 10, 12]},\n",
       "             scoring=&#x27;neg_mean_squared_error&#x27;)</pre><b>In a Jupyter environment, please rerun this cell to show the HTML representation or trust the notebook. <br />On GitHub, the HTML representation is unable to render, please try loading this page with nbviewer.org.</b></div><div class=\"sk-container\" hidden><div class=\"sk-item sk-dashed-wrapped\"><div class=\"sk-label-container\"><div class=\"sk-label sk-toggleable\"><input class=\"sk-toggleable__control sk-hidden--visually\" id=\"sk-estimator-id-4\" type=\"checkbox\" ><label for=\"sk-estimator-id-4\" class=\"sk-toggleable__label sk-toggleable__label-arrow\">GridSearchCV</label><div class=\"sk-toggleable__content\"><pre>GridSearchCV(estimator=DecisionTreeRegressor(random_state=0),\n",
       "             param_grid={&#x27;max_depth&#x27;: [None, 2, 4, 6, 8, 10, 12]},\n",
       "             scoring=&#x27;neg_mean_squared_error&#x27;)</pre></div></div></div><div class=\"sk-parallel\"><div class=\"sk-parallel-item\"><div class=\"sk-item\"><div class=\"sk-label-container\"><div class=\"sk-label sk-toggleable\"><input class=\"sk-toggleable__control sk-hidden--visually\" id=\"sk-estimator-id-5\" type=\"checkbox\" ><label for=\"sk-estimator-id-5\" class=\"sk-toggleable__label sk-toggleable__label-arrow\">estimator: DecisionTreeRegressor</label><div class=\"sk-toggleable__content\"><pre>DecisionTreeRegressor(random_state=0)</pre></div></div></div><div class=\"sk-serial\"><div class=\"sk-item\"><div class=\"sk-estimator sk-toggleable\"><input class=\"sk-toggleable__control sk-hidden--visually\" id=\"sk-estimator-id-6\" type=\"checkbox\" ><label for=\"sk-estimator-id-6\" class=\"sk-toggleable__label sk-toggleable__label-arrow\">DecisionTreeRegressor</label><div class=\"sk-toggleable__content\"><pre>DecisionTreeRegressor(random_state=0)</pre></div></div></div></div></div></div></div></div></div></div>"
      ],
      "text/plain": [
       "GridSearchCV(estimator=DecisionTreeRegressor(random_state=0),\n",
       "             param_grid={'max_depth': [None, 2, 4, 6, 8, 10, 12]},\n",
       "             scoring='neg_mean_squared_error')"
      ]
     },
     "execution_count": 41,
     "metadata": {},
     "output_type": "execute_result"
    }
   ],
   "source": [
    "\n",
    "\n",
    "from sklearn.model_selection import GridSearchCV\n",
    "\n",
    "max_depth = [None, 2,4,6,8,10,12]\n",
    "parameters = {\"max_depth\": max_depth}\n",
    "\n",
    "regressor = DecisionTreeRegressor(random_state=0)\n",
    "gs = GridSearchCV(regressor, parameters, scoring='neg_mean_squared_error')\n",
    "gs.fit(X, y.values)\n",
    "\n"
   ]
  },
  {
   "cell_type": "code",
   "execution_count": null,
   "metadata": {},
   "outputs": [
    {
     "name": "stdout",
     "output_type": "stream",
     "text": [
      "0.49\n"
     ]
    }
   ],
   "source": [
    "\n",
    "\n",
    "\n",
    "\n",
    "regressor = gs.best_estimator_\n",
    "\n",
    "regressor.fit(X, y.values)\n",
    "y_pred = regressor.predict(X)\n",
    "error = np.sqrt(mean_squared_error(y, y_pred))\n",
    "print(\"{:,.02f}\".format(error))\n",
    "\n"
   ]
  },
  {
   "cell_type": "code",
   "execution_count": null,
   "metadata": {},
   "outputs": [
    {
     "data": {
      "text/html": [
       "<div>\n",
       "<style scoped>\n",
       "    .dataframe tbody tr th:only-of-type {\n",
       "        vertical-align: middle;\n",
       "    }\n",
       "\n",
       "    .dataframe tbody tr th {\n",
       "        vertical-align: top;\n",
       "    }\n",
       "\n",
       "    .dataframe thead th {\n",
       "        text-align: right;\n",
       "    }\n",
       "</style>\n",
       "<table border=\"1\" class=\"dataframe\">\n",
       "  <thead>\n",
       "    <tr style=\"text-align: right;\">\n",
       "      <th></th>\n",
       "      <th>AlcoholLevel</th>\n",
       "      <th>HeartRate</th>\n",
       "      <th>BloodOxygenLevel</th>\n",
       "      <th>BodyTemperature</th>\n",
       "      <th>Weight</th>\n",
       "      <th>MRI_Delay</th>\n",
       "      <th>Age</th>\n",
       "      <th>Education_Level</th>\n",
       "      <th>Dominant_Hand</th>\n",
       "      <th>Gender</th>\n",
       "      <th>Family_History</th>\n",
       "      <th>Smoking_Status</th>\n",
       "      <th>Physical_Activity</th>\n",
       "      <th>Depression_Status</th>\n",
       "      <th>Medication_History</th>\n",
       "      <th>Nutrition_Diet</th>\n",
       "      <th>Sleep_Quality</th>\n",
       "    </tr>\n",
       "  </thead>\n",
       "  <tbody>\n",
       "    <tr>\n",
       "      <th>0</th>\n",
       "      <td>432</td>\n",
       "      <td>38</td>\n",
       "      <td>591</td>\n",
       "      <td>149</td>\n",
       "      <td>167</td>\n",
       "      <td>622</td>\n",
       "      <td>0</td>\n",
       "      <td>2</td>\n",
       "      <td>0</td>\n",
       "      <td>0</td>\n",
       "      <td>0</td>\n",
       "      <td>0</td>\n",
       "      <td>2</td>\n",
       "      <td>0</td>\n",
       "      <td>0</td>\n",
       "      <td>1</td>\n",
       "      <td>1</td>\n",
       "    </tr>\n",
       "    <tr>\n",
       "      <th>1</th>\n",
       "      <td>93</td>\n",
       "      <td>18</td>\n",
       "      <td>261</td>\n",
       "      <td>124</td>\n",
       "      <td>156</td>\n",
       "      <td>522</td>\n",
       "      <td>1</td>\n",
       "      <td>3</td>\n",
       "      <td>1</td>\n",
       "      <td>1</td>\n",
       "      <td>0</td>\n",
       "      <td>1</td>\n",
       "      <td>1</td>\n",
       "      <td>0</td>\n",
       "      <td>1</td>\n",
       "      <td>1</td>\n",
       "      <td>1</td>\n",
       "    </tr>\n",
       "    <tr>\n",
       "      <th>2</th>\n",
       "      <td>46</td>\n",
       "      <td>29</td>\n",
       "      <td>328</td>\n",
       "      <td>883</td>\n",
       "      <td>218</td>\n",
       "      <td>638</td>\n",
       "      <td>9</td>\n",
       "      <td>2</td>\n",
       "      <td>1</td>\n",
       "      <td>1</td>\n",
       "      <td>1</td>\n",
       "      <td>1</td>\n",
       "      <td>1</td>\n",
       "      <td>0</td>\n",
       "      <td>0</td>\n",
       "      <td>2</td>\n",
       "      <td>1</td>\n",
       "    </tr>\n",
       "    <tr>\n",
       "      <th>3</th>\n",
       "      <td>441</td>\n",
       "      <td>0</td>\n",
       "      <td>364</td>\n",
       "      <td>670</td>\n",
       "      <td>180</td>\n",
       "      <td>859</td>\n",
       "      <td>18</td>\n",
       "      <td>3</td>\n",
       "      <td>0</td>\n",
       "      <td>0</td>\n",
       "      <td>1</td>\n",
       "      <td>2</td>\n",
       "      <td>0</td>\n",
       "      <td>1</td>\n",
       "      <td>1</td>\n",
       "      <td>0</td>\n",
       "      <td>1</td>\n",
       "    </tr>\n",
       "    <tr>\n",
       "      <th>4</th>\n",
       "      <td>742</td>\n",
       "      <td>7</td>\n",
       "      <td>718</td>\n",
       "      <td>39</td>\n",
       "      <td>364</td>\n",
       "      <td>453</td>\n",
       "      <td>17</td>\n",
       "      <td>3</td>\n",
       "      <td>1</td>\n",
       "      <td>1</td>\n",
       "      <td>1</td>\n",
       "      <td>2</td>\n",
       "      <td>0</td>\n",
       "      <td>0</td>\n",
       "      <td>1</td>\n",
       "      <td>1</td>\n",
       "      <td>0</td>\n",
       "    </tr>\n",
       "    <tr>\n",
       "      <th>...</th>\n",
       "      <td>...</td>\n",
       "      <td>...</td>\n",
       "      <td>...</td>\n",
       "      <td>...</td>\n",
       "      <td>...</td>\n",
       "      <td>...</td>\n",
       "      <td>...</td>\n",
       "      <td>...</td>\n",
       "      <td>...</td>\n",
       "      <td>...</td>\n",
       "      <td>...</td>\n",
       "      <td>...</td>\n",
       "      <td>...</td>\n",
       "      <td>...</td>\n",
       "      <td>...</td>\n",
       "      <td>...</td>\n",
       "      <td>...</td>\n",
       "    </tr>\n",
       "    <tr>\n",
       "      <th>995</th>\n",
       "      <td>413</td>\n",
       "      <td>27</td>\n",
       "      <td>357</td>\n",
       "      <td>318</td>\n",
       "      <td>8</td>\n",
       "      <td>711</td>\n",
       "      <td>28</td>\n",
       "      <td>0</td>\n",
       "      <td>0</td>\n",
       "      <td>1</td>\n",
       "      <td>1</td>\n",
       "      <td>2</td>\n",
       "      <td>0</td>\n",
       "      <td>0</td>\n",
       "      <td>0</td>\n",
       "      <td>0</td>\n",
       "      <td>1</td>\n",
       "    </tr>\n",
       "    <tr>\n",
       "      <th>996</th>\n",
       "      <td>718</td>\n",
       "      <td>37</td>\n",
       "      <td>421</td>\n",
       "      <td>178</td>\n",
       "      <td>899</td>\n",
       "      <td>886</td>\n",
       "      <td>20</td>\n",
       "      <td>2</td>\n",
       "      <td>0</td>\n",
       "      <td>0</td>\n",
       "      <td>0</td>\n",
       "      <td>2</td>\n",
       "      <td>1</td>\n",
       "      <td>0</td>\n",
       "      <td>1</td>\n",
       "      <td>1</td>\n",
       "      <td>1</td>\n",
       "    </tr>\n",
       "    <tr>\n",
       "      <th>997</th>\n",
       "      <td>377</td>\n",
       "      <td>5</td>\n",
       "      <td>833</td>\n",
       "      <td>701</td>\n",
       "      <td>607</td>\n",
       "      <td>211</td>\n",
       "      <td>7</td>\n",
       "      <td>2</td>\n",
       "      <td>1</td>\n",
       "      <td>0</td>\n",
       "      <td>0</td>\n",
       "      <td>2</td>\n",
       "      <td>2</td>\n",
       "      <td>0</td>\n",
       "      <td>1</td>\n",
       "      <td>0</td>\n",
       "      <td>0</td>\n",
       "    </tr>\n",
       "    <tr>\n",
       "      <th>998</th>\n",
       "      <td>213</td>\n",
       "      <td>11</td>\n",
       "      <td>131</td>\n",
       "      <td>679</td>\n",
       "      <td>927</td>\n",
       "      <td>270</td>\n",
       "      <td>2</td>\n",
       "      <td>1</td>\n",
       "      <td>0</td>\n",
       "      <td>1</td>\n",
       "      <td>1</td>\n",
       "      <td>2</td>\n",
       "      <td>2</td>\n",
       "      <td>1</td>\n",
       "      <td>0</td>\n",
       "      <td>1</td>\n",
       "      <td>0</td>\n",
       "    </tr>\n",
       "    <tr>\n",
       "      <th>999</th>\n",
       "      <td>437</td>\n",
       "      <td>30</td>\n",
       "      <td>513</td>\n",
       "      <td>10</td>\n",
       "      <td>170</td>\n",
       "      <td>504</td>\n",
       "      <td>20</td>\n",
       "      <td>3</td>\n",
       "      <td>0</td>\n",
       "      <td>0</td>\n",
       "      <td>1</td>\n",
       "      <td>2</td>\n",
       "      <td>0</td>\n",
       "      <td>0</td>\n",
       "      <td>1</td>\n",
       "      <td>2</td>\n",
       "      <td>0</td>\n",
       "    </tr>\n",
       "  </tbody>\n",
       "</table>\n",
       "<p>1000 rows × 17 columns</p>\n",
       "</div>"
      ],
      "text/plain": [
       "     AlcoholLevel  HeartRate  BloodOxygenLevel  BodyTemperature  Weight  \\\n",
       "0             432         38               591              149     167   \n",
       "1              93         18               261              124     156   \n",
       "2              46         29               328              883     218   \n",
       "3             441          0               364              670     180   \n",
       "4             742          7               718               39     364   \n",
       "..            ...        ...               ...              ...     ...   \n",
       "995           413         27               357              318       8   \n",
       "996           718         37               421              178     899   \n",
       "997           377          5               833              701     607   \n",
       "998           213         11               131              679     927   \n",
       "999           437         30               513               10     170   \n",
       "\n",
       "     MRI_Delay  Age  Education_Level  Dominant_Hand  Gender  Family_History  \\\n",
       "0          622    0                2              0       0               0   \n",
       "1          522    1                3              1       1               0   \n",
       "2          638    9                2              1       1               1   \n",
       "3          859   18                3              0       0               1   \n",
       "4          453   17                3              1       1               1   \n",
       "..         ...  ...              ...            ...     ...             ...   \n",
       "995        711   28                0              0       1               1   \n",
       "996        886   20                2              0       0               0   \n",
       "997        211    7                2              1       0               0   \n",
       "998        270    2                1              0       1               1   \n",
       "999        504   20                3              0       0               1   \n",
       "\n",
       "     Smoking_Status  Physical_Activity  Depression_Status  Medication_History  \\\n",
       "0                 0                  2                  0                   0   \n",
       "1                 1                  1                  0                   1   \n",
       "2                 1                  1                  0                   0   \n",
       "3                 2                  0                  1                   1   \n",
       "4                 2                  0                  0                   1   \n",
       "..              ...                ...                ...                 ...   \n",
       "995               2                  0                  0                   0   \n",
       "996               2                  1                  0                   1   \n",
       "997               2                  2                  0                   1   \n",
       "998               2                  2                  1                   0   \n",
       "999               2                  0                  0                   1   \n",
       "\n",
       "     Nutrition_Diet  Sleep_Quality  \n",
       "0                 1              1  \n",
       "1                 1              1  \n",
       "2                 2              1  \n",
       "3                 0              1  \n",
       "4                 1              0  \n",
       "..              ...            ...  \n",
       "995               0              1  \n",
       "996               1              1  \n",
       "997               0              0  \n",
       "998               1              0  \n",
       "999               2              0  \n",
       "\n",
       "[1000 rows x 17 columns]"
      ]
     },
     "execution_count": 43,
     "metadata": {},
     "output_type": "execute_result"
    }
   ],
   "source": [
    "\n",
    "\n",
    "X\n",
    "\n"
   ]
  },
  {
   "cell_type": "code",
   "execution_count": null,
   "metadata": {},
   "outputs": [
    {
     "data": {
      "text/plain": [
       "array([['0.08', '98', '96.23', '36.22', '57.56', '36.42', '60',\n",
       "        'Prirmary School', 'Left', 'Female', 'No', 'Current Smoker',\n",
       "        'Negative', 'Sedentary', 'No', 'No', 'Low-Carb Diet', 'Poor',\n",
       "        'Diabetes']], dtype='<U32')"
      ]
     },
     "execution_count": 44,
     "metadata": {},
     "output_type": "execute_result"
    }
   ],
   "source": [
    "\n",
    "\n",
    "\n",
    "X_1 = np.array([[0.08, 98, 96.23, 36.22, 57.56, 36.42, 60, 'Prirmary School', 'Left', 'Female', 'No', 'Current Smoker', 'Negative', 'Sedentary', 'No', 'No', 'Low-Carb Diet', 'Poor', 'Diabetes']])\n",
    "X_1\n"
   ]
  },
  {
   "cell_type": "code",
   "execution_count": null,
   "metadata": {},
   "outputs": [],
   "source": [
    "# Concatenate training and test sets\n",
    "from sklearn.model_selection import train_test_split\n",
    "\n",
    "X_train, X_test, y_train, y_test = train_test_split(X, y, test_size=0.2, random_state=42)\n",
    "\n",
    "X_combined = pd.concat([X_train, X_test])\n",
    "\n",
    "# Fit the LabelEncoders on the combined dataset\n",
    "le_alcohollvl.fit(X_combined.iloc[:, 0])\n",
    "le_heartrate.fit(X_combined.iloc[:, 1])\n",
    "le_bloodoxygen.fit(X_combined.iloc[:, 2])\n",
    "le_bodytemp.fit(X_combined.iloc[:, 3])\n",
    "le_weight.fit(X_combined.iloc[:, 4])\n",
    "le_MRI.fit(X_combined.iloc[:, 5])\n",
    "le_age.fit(X_combined.iloc[:, 6])\n",
    "le_education.fit(X_combined.iloc[:, 7])\n",
    "le_handdom.fit(X_combined.iloc[:, 8])\n",
    "le_gender.fit(X_combined.iloc[:, 9])\n",
    "le_famhist.fit(X_combined.iloc[:, 10])\n",
    "le_smoking.fit(X_combined.iloc[:, 11])\n",
    "le_physicalact.fit(X_combined.iloc[:, 12])\n",
    "le_depression.fit(X_combined.iloc[:, 13])\n",
    "le_medication.fit(X_combined.iloc[:, 14])\n",
    "le_nutrition.fit(X_combined.iloc[:, 15])\n",
    "le_sleep.fit(X_combined.iloc[:, 16])\n",
    "\n",
    "# Transform the features using LabelEncoders\n",
    "X.iloc[:, 0] = le_alcohollvl.transform(X.iloc[:, 0])\n",
    "X.iloc[:, 1] = le_heartrate.transform(X.iloc[:, 1])\n",
    "X.iloc[:, 2] = le_bloodoxygen.transform(X.iloc[:, 2])\n",
    "X.iloc[:, 3] = le_bodytemp.transform(X.iloc[:, 3])\n",
    "X.iloc[:, 4] = le_weight.transform(X.iloc[:, 4])\n",
    "X.iloc[:, 5] = le_MRI.transform(X.iloc[:, 5])\n",
    "X.iloc[:, 6] = le_age.transform(X.iloc[:, 6])\n",
    "X.iloc[:, 7] = le_education.transform(X.iloc[:, 7])\n",
    "X.iloc[:, 8] = le_handdom.transform(X.iloc[:, 8])\n",
    "X.iloc[:, 9] = le_gender.transform(X.iloc[:, 9])\n",
    "X.iloc[:, 10] = le_famhist.transform(X.iloc[:, 10])\n",
    "X.iloc[:, 11] = le_smoking.transform(X.iloc[:, 11])\n",
    "X.iloc[:, 12] = le_physicalact.transform(X.iloc[:, 12])\n",
    "X.iloc[:, 13] = le_depression.transform(X.iloc[:, 13])\n",
    "X.iloc[:, 14] = le_medication.transform(X.iloc[:, 14])\n",
    "X.iloc[:, 15] = le_nutrition.transform(X.iloc[:, 15])\n",
    "X.iloc[:, 16] = le_sleep.transform(X.iloc[:, 16])\n",
    "\n",
    "\n",
    "# Convert X to float\n",
    "X = X.astype(float)\n"
   ]
  },
  {
   "cell_type": "code",
   "execution_count": null,
   "metadata": {},
   "outputs": [
    {
     "name": "stdout",
     "output_type": "stream",
     "text": [
      "Shape of X: (1000, 17)\n",
      "Shape of y: (1000,)\n"
     ]
    }
   ],
   "source": [
    "print(\"Shape of X:\", X.shape)\n",
    "print(\"Shape of y:\", y.shape)\n"
   ]
  },
  {
   "cell_type": "code",
   "execution_count": null,
   "metadata": {},
   "outputs": [
    {
     "data": {
      "text/plain": [
       "array([0.53658537, 0.46238938, 0.46238938, 0.53658537, 0.79591837,\n",
       "       0.53658537, 0.46238938, 0.79591837, 0.46238938, 0.53658537,\n",
       "       0.53658537, 0.46238938, 0.46238938, 0.46238938, 0.53658537,\n",
       "       0.14285714, 0.53658537, 0.46238938, 0.53658537, 0.46238938,\n",
       "       0.53658537, 0.53658537, 0.53658537, 0.79591837, 0.53658537,\n",
       "       0.46238938, 0.53658537, 0.53658537, 0.46238938, 0.46238938,\n",
       "       0.53658537, 0.79591837, 0.46238938, 0.46238938, 0.46238938,\n",
       "       0.53658537, 0.53658537, 0.53658537, 0.46238938, 0.46238938,\n",
       "       0.46238938, 0.53658537, 0.46238938, 0.53658537, 0.46238938,\n",
       "       0.53658537, 0.53658537, 0.79591837, 0.53658537, 0.53658537,\n",
       "       0.53658537, 0.46238938, 0.46238938, 0.46238938, 0.53658537,\n",
       "       0.53658537, 0.46238938, 0.79591837, 0.46238938, 0.79591837,\n",
       "       0.53658537, 0.46238938, 0.53658537, 0.46238938, 0.46238938,\n",
       "       0.53658537, 0.53658537, 0.53658537, 0.46238938, 0.53658537,\n",
       "       0.53658537, 0.53658537, 0.46238938, 0.46238938, 0.53658537,\n",
       "       0.46238938, 0.53658537, 0.53658537, 0.53658537, 0.46238938,\n",
       "       0.53658537, 0.46238938, 0.53658537, 0.53658537, 0.53658537,\n",
       "       0.53658537, 0.79591837, 0.46238938, 0.46238938, 0.53658537,\n",
       "       0.53658537, 0.53658537, 0.53658537, 0.46238938, 0.79591837,\n",
       "       0.53658537, 0.53658537, 0.53658537, 0.46238938, 0.46238938,\n",
       "       0.53658537, 0.53658537, 0.46238938, 0.46238938, 0.53658537,\n",
       "       0.53658537, 0.46238938, 0.53658537, 0.53658537, 0.46238938,\n",
       "       0.53658537, 0.53658537, 0.46238938, 0.53658537, 0.46238938,\n",
       "       0.53658537, 0.53658537, 0.46238938, 0.53658537, 0.53658537,\n",
       "       0.53658537, 0.53658537, 0.46238938, 0.53658537, 0.53658537,\n",
       "       0.53658537, 0.46238938, 0.46238938, 0.53658537, 0.53658537,\n",
       "       0.53658537, 0.46238938, 0.53658537, 0.46238938, 0.79591837,\n",
       "       0.53658537, 0.46238938, 0.79591837, 0.46238938, 0.53658537,\n",
       "       0.53658537, 0.53658537, 0.46238938, 0.53658537, 0.53658537,\n",
       "       0.53658537, 0.53658537, 0.46238938, 0.53658537, 0.46238938,\n",
       "       0.46238938, 0.46238938, 0.53658537, 0.46238938, 0.53658537,\n",
       "       0.46238938, 0.53658537, 0.46238938, 0.79591837, 0.46238938,\n",
       "       0.46238938, 0.53658537, 0.46238938, 0.79591837, 0.53658537,\n",
       "       0.53658537, 0.53658537, 0.53658537, 0.53658537, 0.53658537,\n",
       "       0.46238938, 0.53658537, 0.46238938, 0.46238938, 0.53658537,\n",
       "       0.46238938, 0.53658537, 0.46238938, 0.46238938, 0.46238938,\n",
       "       0.46238938, 0.53658537, 0.46238938, 0.46238938, 0.53658537,\n",
       "       0.46238938, 0.53658537, 0.53658537, 0.53658537, 0.53658537,\n",
       "       0.46238938, 0.79591837, 0.46238938, 0.53658537, 0.46238938,\n",
       "       0.46238938, 0.53658537, 0.53658537, 0.46238938, 0.53658537,\n",
       "       0.53658537, 0.53658537, 0.53658537, 0.53658537, 0.46238938,\n",
       "       0.53658537, 0.53658537, 0.46238938, 0.53658537, 0.46238938,\n",
       "       0.53658537, 0.53658537, 0.53658537, 0.53658537, 0.53658537,\n",
       "       0.53658537, 0.46238938, 0.53658537, 0.53658537, 0.46238938,\n",
       "       0.46238938, 0.53658537, 0.53658537, 0.46238938, 0.46238938,\n",
       "       0.46238938, 0.53658537, 0.53658537, 0.53658537, 0.46238938,\n",
       "       0.79591837, 0.46238938, 0.53658537, 0.46238938, 0.46238938,\n",
       "       0.46238938, 0.53658537, 0.46238938, 0.53658537, 0.46238938,\n",
       "       0.46238938, 0.46238938, 0.46238938, 0.46238938, 0.53658537,\n",
       "       0.46238938, 0.46238938, 0.46238938, 0.53658537, 0.53658537,\n",
       "       0.46238938, 0.46238938, 0.46238938, 0.53658537, 0.53658537,\n",
       "       0.46238938, 0.53658537, 0.53658537, 0.46238938, 0.46238938,\n",
       "       0.46238938, 0.53658537, 0.53658537, 0.53658537, 0.46238938,\n",
       "       0.46238938, 0.46238938, 0.53658537, 0.46238938, 0.53658537,\n",
       "       0.53658537, 0.53658537, 0.79591837, 0.53658537, 0.46238938,\n",
       "       0.53658537, 0.46238938, 0.46238938, 0.46238938, 0.53658537,\n",
       "       0.46238938, 0.46238938, 0.53658537, 0.53658537, 0.53658537,\n",
       "       0.53658537, 0.53658537, 0.53658537, 0.46238938, 0.46238938,\n",
       "       0.53658537, 0.46238938, 0.53658537, 0.53658537, 0.53658537,\n",
       "       0.53658537, 0.53658537, 0.53658537, 0.46238938, 0.53658537,\n",
       "       0.79591837, 0.53658537, 0.53658537, 0.53658537, 0.53658537,\n",
       "       0.53658537, 0.46238938, 0.53658537, 0.46238938, 0.46238938,\n",
       "       0.46238938, 0.79591837, 0.46238938, 0.46238938, 0.53658537,\n",
       "       0.46238938, 0.53658537, 0.53658537, 0.53658537, 0.53658537,\n",
       "       0.53658537, 0.46238938, 0.53658537, 0.53658537, 0.46238938,\n",
       "       0.53658537, 0.53658537, 0.46238938, 0.53658537, 0.53658537,\n",
       "       0.46238938, 0.53658537, 0.53658537, 0.46238938, 0.53658537,\n",
       "       0.46238938, 0.46238938, 0.53658537, 0.53658537, 0.53658537,\n",
       "       0.53658537, 0.79591837, 0.46238938, 0.46238938, 0.53658537,\n",
       "       0.46238938, 0.79591837, 0.46238938, 0.53658537, 0.53658537,\n",
       "       0.53658537, 0.53658537, 0.79591837, 0.46238938, 0.53658537,\n",
       "       0.53658537, 0.53658537, 0.46238938, 0.46238938, 0.53658537,\n",
       "       0.53658537, 0.53658537, 0.46238938, 0.53658537, 0.46238938,\n",
       "       0.53658537, 0.46238938, 0.46238938, 0.53658537, 0.46238938,\n",
       "       0.46238938, 0.53658537, 0.53658537, 0.79591837, 0.46238938,\n",
       "       0.46238938, 0.53658537, 0.46238938, 0.46238938, 0.53658537,\n",
       "       0.53658537, 0.53658537, 0.53658537, 0.53658537, 0.53658537,\n",
       "       0.46238938, 0.53658537, 0.53658537, 0.46238938, 0.46238938,\n",
       "       0.53658537, 0.79591837, 0.53658537, 0.46238938, 0.53658537,\n",
       "       0.46238938, 0.53658537, 0.53658537, 0.53658537, 0.53658537,\n",
       "       0.53658537, 0.46238938, 0.53658537, 0.53658537, 0.46238938,\n",
       "       0.46238938, 0.53658537, 0.14285714, 0.46238938, 0.46238938,\n",
       "       0.46238938, 0.46238938, 0.53658537, 0.53658537, 0.46238938,\n",
       "       0.53658537, 0.53658537, 0.53658537, 0.53658537, 0.79591837,\n",
       "       0.46238938, 0.53658537, 0.46238938, 0.46238938, 0.53658537,\n",
       "       0.46238938, 0.46238938, 0.53658537, 0.46238938, 0.46238938,\n",
       "       0.46238938, 0.53658537, 0.53658537, 0.46238938, 0.79591837,\n",
       "       0.53658537, 0.53658537, 0.53658537, 0.46238938, 0.53658537,\n",
       "       0.53658537, 0.46238938, 0.53658537, 0.46238938, 0.53658537,\n",
       "       0.53658537, 0.46238938, 0.46238938, 0.46238938, 0.53658537,\n",
       "       0.53658537, 0.53658537, 0.46238938, 0.53658537, 0.53658537,\n",
       "       0.46238938, 0.53658537, 0.53658537, 0.46238938, 0.79591837,\n",
       "       0.46238938, 0.53658537, 0.14285714, 0.46238938, 0.53658537,\n",
       "       0.53658537, 0.53658537, 0.46238938, 0.53658537, 0.53658537,\n",
       "       0.53658537, 0.53658537, 0.46238938, 0.53658537, 0.46238938,\n",
       "       0.79591837, 0.53658537, 0.46238938, 0.53658537, 0.53658537,\n",
       "       0.46238938, 0.46238938, 0.53658537, 0.46238938, 0.53658537,\n",
       "       0.53658537, 0.53658537, 0.53658537, 0.53658537, 0.53658537,\n",
       "       0.79591837, 0.46238938, 0.46238938, 0.46238938, 0.53658537,\n",
       "       0.46238938, 0.46238938, 0.46238938, 0.53658537, 0.53658537,\n",
       "       0.46238938, 0.53658537, 0.46238938, 0.46238938, 0.46238938,\n",
       "       0.53658537, 0.53658537, 0.46238938, 0.46238938, 0.53658537,\n",
       "       0.46238938, 0.46238938, 0.46238938, 0.53658537, 0.46238938,\n",
       "       0.46238938, 0.53658537, 0.46238938, 0.53658537, 0.46238938,\n",
       "       0.46238938, 0.79591837, 0.53658537, 0.53658537, 0.53658537,\n",
       "       0.53658537, 0.53658537, 0.46238938, 0.79591837, 0.46238938,\n",
       "       0.46238938, 0.53658537, 0.53658537, 0.53658537, 0.46238938,\n",
       "       0.53658537, 0.46238938, 0.46238938, 0.46238938, 0.53658537,\n",
       "       0.46238938, 0.46238938, 0.46238938, 0.79591837, 0.53658537,\n",
       "       0.46238938, 0.53658537, 0.46238938, 0.53658537, 0.46238938,\n",
       "       0.46238938, 0.53658537, 0.46238938, 0.46238938, 0.46238938,\n",
       "       0.46238938, 0.53658537, 0.53658537, 0.53658537, 0.46238938,\n",
       "       0.46238938, 0.46238938, 0.79591837, 0.53658537, 0.53658537,\n",
       "       0.46238938, 0.53658537, 0.53658537, 0.46238938, 0.46238938,\n",
       "       0.53658537, 0.46238938, 0.46238938, 0.53658537, 0.46238938,\n",
       "       0.53658537, 0.46238938, 0.53658537, 0.53658537, 0.46238938,\n",
       "       0.79591837, 0.46238938, 0.53658537, 0.46238938, 0.53658537,\n",
       "       0.14285714, 0.53658537, 0.46238938, 0.53658537, 0.46238938,\n",
       "       0.53658537, 0.53658537, 0.46238938, 0.46238938, 0.46238938,\n",
       "       0.53658537, 0.46238938, 0.53658537, 0.53658537, 0.79591837,\n",
       "       0.53658537, 0.46238938, 0.53658537, 0.46238938, 0.46238938,\n",
       "       0.53658537, 0.46238938, 0.53658537, 0.53658537, 0.46238938,\n",
       "       0.53658537, 0.53658537, 0.53658537, 0.53658537, 0.14285714,\n",
       "       0.46238938, 0.53658537, 0.46238938, 0.46238938, 0.46238938,\n",
       "       0.53658537, 0.46238938, 0.46238938, 0.46238938, 0.53658537,\n",
       "       0.53658537, 0.53658537, 0.46238938, 0.46238938, 0.79591837,\n",
       "       0.53658537, 0.79591837, 0.14285714, 0.53658537, 0.46238938,\n",
       "       0.53658537, 0.53658537, 0.46238938, 0.53658537, 0.53658537,\n",
       "       0.46238938, 0.46238938, 0.46238938, 0.46238938, 0.53658537,\n",
       "       0.46238938, 0.46238938, 0.79591837, 0.53658537, 0.46238938,\n",
       "       0.46238938, 0.46238938, 0.53658537, 0.53658537, 0.46238938,\n",
       "       0.53658537, 0.53658537, 0.46238938, 0.46238938, 0.46238938,\n",
       "       0.46238938, 0.46238938, 0.53658537, 0.53658537, 0.53658537,\n",
       "       0.46238938, 0.53658537, 0.53658537, 0.53658537, 0.46238938,\n",
       "       0.46238938, 0.46238938, 0.53658537, 0.46238938, 0.46238938,\n",
       "       0.46238938, 0.53658537, 0.46238938, 0.53658537, 0.46238938,\n",
       "       0.53658537, 0.53658537, 0.53658537, 0.46238938, 0.53658537,\n",
       "       0.53658537, 0.53658537, 0.53658537, 0.46238938, 0.79591837,\n",
       "       0.46238938, 0.46238938, 0.46238938, 0.53658537, 0.53658537,\n",
       "       0.53658537, 0.53658537, 0.46238938, 0.53658537, 0.46238938,\n",
       "       0.46238938, 0.53658537, 0.53658537, 0.53658537, 0.53658537,\n",
       "       0.53658537, 0.53658537, 0.46238938, 0.46238938, 0.53658537,\n",
       "       0.53658537, 0.53658537, 0.46238938, 0.46238938, 0.46238938,\n",
       "       0.46238938, 0.53658537, 0.46238938, 0.46238938, 0.53658537,\n",
       "       0.46238938, 0.53658537, 0.46238938, 0.53658537, 0.53658537,\n",
       "       0.53658537, 0.46238938, 0.53658537, 0.53658537, 0.46238938,\n",
       "       0.46238938, 0.46238938, 0.53658537, 0.46238938, 0.53658537,\n",
       "       0.46238938, 0.46238938, 0.53658537, 0.53658537, 0.14285714,\n",
       "       0.53658537, 0.53658537, 0.53658537, 0.46238938, 0.53658537,\n",
       "       0.53658537, 0.53658537, 0.53658537, 0.53658537, 0.46238938,\n",
       "       0.53658537, 0.46238938, 0.53658537, 0.46238938, 0.53658537,\n",
       "       0.46238938, 0.46238938, 0.53658537, 0.53658537, 0.53658537,\n",
       "       0.46238938, 0.53658537, 0.46238938, 0.53658537, 0.53658537,\n",
       "       0.46238938, 0.53658537, 0.53658537, 0.46238938, 0.53658537,\n",
       "       0.46238938, 0.46238938, 0.46238938, 0.46238938, 0.46238938,\n",
       "       0.53658537, 0.46238938, 0.46238938, 0.46238938, 0.46238938,\n",
       "       0.53658537, 0.46238938, 0.53658537, 0.46238938, 0.46238938,\n",
       "       0.46238938, 0.46238938, 0.79591837, 0.53658537, 0.46238938,\n",
       "       0.46238938, 0.46238938, 0.46238938, 0.53658537, 0.46238938,\n",
       "       0.46238938, 0.46238938, 0.53658537, 0.46238938, 0.46238938,\n",
       "       0.46238938, 0.53658537, 0.53658537, 0.53658537, 0.53658537,\n",
       "       0.53658537, 0.53658537, 0.46238938, 0.53658537, 0.46238938,\n",
       "       0.53658537, 0.46238938, 0.53658537, 0.79591837, 0.46238938,\n",
       "       0.46238938, 0.46238938, 0.46238938, 0.46238938, 0.46238938,\n",
       "       0.46238938, 0.46238938, 0.46238938, 0.53658537, 0.53658537,\n",
       "       0.46238938, 0.53658537, 0.79591837, 0.53658537, 0.53658537,\n",
       "       0.53658537, 0.53658537, 0.46238938, 0.46238938, 0.46238938,\n",
       "       0.46238938, 0.53658537, 0.46238938, 0.53658537, 0.46238938,\n",
       "       0.46238938, 0.79591837, 0.53658537, 0.46238938, 0.46238938,\n",
       "       0.46238938, 0.46238938, 0.46238938, 0.46238938, 0.46238938,\n",
       "       0.53658537, 0.53658537, 0.53658537, 0.46238938, 0.46238938,\n",
       "       0.53658537, 0.46238938, 0.46238938, 0.46238938, 0.46238938,\n",
       "       0.53658537, 0.46238938, 0.53658537, 0.46238938, 0.53658537,\n",
       "       0.53658537, 0.79591837, 0.53658537, 0.46238938, 0.53658537,\n",
       "       0.53658537, 0.53658537, 0.46238938, 0.53658537, 0.53658537,\n",
       "       0.46238938, 0.46238938, 0.53658537, 0.53658537, 0.46238938,\n",
       "       0.46238938, 0.46238938, 0.53658537, 0.53658537, 0.53658537,\n",
       "       0.53658537, 0.46238938, 0.53658537, 0.46238938, 0.46238938,\n",
       "       0.53658537, 0.53658537, 0.46238938, 0.53658537, 0.53658537,\n",
       "       0.53658537, 0.53658537, 0.46238938, 0.46238938, 0.46238938,\n",
       "       0.53658537, 0.46238938, 0.46238938, 0.46238938, 0.46238938,\n",
       "       0.46238938, 0.53658537, 0.53658537, 0.46238938, 0.46238938,\n",
       "       0.46238938, 0.53658537, 0.46238938, 0.46238938, 0.53658537,\n",
       "       0.53658537, 0.46238938, 0.53658537, 0.53658537, 0.46238938,\n",
       "       0.46238938, 0.46238938, 0.46238938, 0.46238938, 0.46238938,\n",
       "       0.53658537, 0.46238938, 0.46238938, 0.53658537, 0.53658537,\n",
       "       0.46238938, 0.53658537, 0.46238938, 0.46238938, 0.53658537,\n",
       "       0.46238938, 0.53658537, 0.46238938, 0.46238938, 0.53658537,\n",
       "       0.46238938, 0.53658537, 0.46238938, 0.46238938, 0.53658537,\n",
       "       0.53658537, 0.46238938, 0.46238938, 0.53658537, 0.46238938,\n",
       "       0.53658537, 0.46238938, 0.46238938, 0.46238938, 0.53658537,\n",
       "       0.53658537, 0.46238938, 0.53658537, 0.79591837, 0.53658537,\n",
       "       0.46238938, 0.53658537, 0.46238938, 0.79591837, 0.53658537,\n",
       "       0.53658537, 0.53658537, 0.53658537, 0.46238938, 0.46238938,\n",
       "       0.53658537, 0.53658537, 0.53658537, 0.53658537, 0.53658537,\n",
       "       0.79591837, 0.53658537, 0.46238938, 0.53658537, 0.46238938,\n",
       "       0.79591837, 0.46238938, 0.46238938, 0.53658537, 0.46238938,\n",
       "       0.46238938, 0.46238938, 0.46238938, 0.53658537, 0.46238938,\n",
       "       0.53658537, 0.46238938, 0.79591837, 0.46238938, 0.46238938,\n",
       "       0.53658537, 0.53658537, 0.46238938, 0.53658537, 0.79591837])"
      ]
     },
     "execution_count": 47,
     "metadata": {},
     "output_type": "execute_result"
    }
   ],
   "source": [
    "\n",
    "\n",
    "\n",
    "\n",
    "y_pred = regressor.predict(X)\n",
    "y_pred\n",
    "\n"
   ]
  },
  {
   "cell_type": "code",
   "execution_count": null,
   "metadata": {},
   "outputs": [],
   "source": [
    "\n",
    "\n",
    "\n",
    "import pickle\n",
    "\n"
   ]
  },
  {
   "cell_type": "code",
   "execution_count": null,
   "metadata": {},
   "outputs": [],
   "source": [
    "data = {\"model\": regressor, \"le_heartrate\": le_heartrate, \"le_bloodoxygen\": le_bloodoxygen, \"le_weight\": le_weight, \"le_age\": le_age, \"le_smoking\": le_smoking, \"le_gender\": le_gender, \"le_physicalact\": le_physicalact, \"le_depression\": le_depression, \"le_nutrition\": le_nutrition, \"le_sleep\": le_sleep}\n",
    "with open('saved_steps.pkl', 'wb') as file:\n",
    "    pickle.dump(data, file)\n",
    "\n",
    "with open('saved_steps.pkl', 'rb') as file:\n",
    "    data = pickle.load(file)\n",
    "\n",
    "regressor_loaded = data[\"model\"]\n",
    "le_heartrate = data[\"le_heartrate\"]\n",
    "le_bloodoxygen = data[\"le_bloodoxygen\"]\n",
    "le_weight = data[\"le_weight\"]\n",
    "le_age = data[\"le_age\"] \n",
    "le_smoking = data[\"le_smoking\"]\n",
    "le_gender = data[\"le_gender\"]\n",
    "le_physicalact = data[\"le_physicalact\"]\n",
    "le_depression = data[\"le_depression\"] \n",
    "le_nutrition = data[\"le_nutrition\"] \n",
    "le_sleep = data[\"le_sleep\"] \n"
   ]
  },
  {
   "cell_type": "code",
   "execution_count": null,
   "metadata": {},
   "outputs": [
    {
     "data": {
      "text/plain": [
       "array([0.53658537, 0.46238938, 0.46238938, 0.53658537, 0.79591837,\n",
       "       0.53658537, 0.46238938, 0.79591837, 0.46238938, 0.53658537,\n",
       "       0.53658537, 0.46238938, 0.46238938, 0.46238938, 0.53658537,\n",
       "       0.14285714, 0.53658537, 0.46238938, 0.53658537, 0.46238938,\n",
       "       0.53658537, 0.53658537, 0.53658537, 0.79591837, 0.53658537,\n",
       "       0.46238938, 0.53658537, 0.53658537, 0.46238938, 0.46238938,\n",
       "       0.53658537, 0.79591837, 0.46238938, 0.46238938, 0.46238938,\n",
       "       0.53658537, 0.53658537, 0.53658537, 0.46238938, 0.46238938,\n",
       "       0.46238938, 0.53658537, 0.46238938, 0.53658537, 0.46238938,\n",
       "       0.53658537, 0.53658537, 0.79591837, 0.53658537, 0.53658537,\n",
       "       0.53658537, 0.46238938, 0.46238938, 0.46238938, 0.53658537,\n",
       "       0.53658537, 0.46238938, 0.79591837, 0.46238938, 0.79591837,\n",
       "       0.53658537, 0.46238938, 0.53658537, 0.46238938, 0.46238938,\n",
       "       0.53658537, 0.53658537, 0.53658537, 0.46238938, 0.53658537,\n",
       "       0.53658537, 0.53658537, 0.46238938, 0.46238938, 0.53658537,\n",
       "       0.46238938, 0.53658537, 0.53658537, 0.53658537, 0.46238938,\n",
       "       0.53658537, 0.46238938, 0.53658537, 0.53658537, 0.53658537,\n",
       "       0.53658537, 0.79591837, 0.46238938, 0.46238938, 0.53658537,\n",
       "       0.53658537, 0.53658537, 0.53658537, 0.46238938, 0.79591837,\n",
       "       0.53658537, 0.53658537, 0.53658537, 0.46238938, 0.46238938,\n",
       "       0.53658537, 0.53658537, 0.46238938, 0.46238938, 0.53658537,\n",
       "       0.53658537, 0.46238938, 0.53658537, 0.53658537, 0.46238938,\n",
       "       0.53658537, 0.53658537, 0.46238938, 0.53658537, 0.46238938,\n",
       "       0.53658537, 0.53658537, 0.46238938, 0.53658537, 0.53658537,\n",
       "       0.53658537, 0.53658537, 0.46238938, 0.53658537, 0.53658537,\n",
       "       0.53658537, 0.46238938, 0.46238938, 0.53658537, 0.53658537,\n",
       "       0.53658537, 0.46238938, 0.53658537, 0.46238938, 0.79591837,\n",
       "       0.53658537, 0.46238938, 0.79591837, 0.46238938, 0.53658537,\n",
       "       0.53658537, 0.53658537, 0.46238938, 0.53658537, 0.53658537,\n",
       "       0.53658537, 0.53658537, 0.46238938, 0.53658537, 0.46238938,\n",
       "       0.46238938, 0.46238938, 0.53658537, 0.46238938, 0.53658537,\n",
       "       0.46238938, 0.53658537, 0.46238938, 0.79591837, 0.46238938,\n",
       "       0.46238938, 0.53658537, 0.46238938, 0.79591837, 0.53658537,\n",
       "       0.53658537, 0.53658537, 0.53658537, 0.53658537, 0.53658537,\n",
       "       0.46238938, 0.53658537, 0.46238938, 0.46238938, 0.53658537,\n",
       "       0.46238938, 0.53658537, 0.46238938, 0.46238938, 0.46238938,\n",
       "       0.46238938, 0.53658537, 0.46238938, 0.46238938, 0.53658537,\n",
       "       0.46238938, 0.53658537, 0.53658537, 0.53658537, 0.53658537,\n",
       "       0.46238938, 0.79591837, 0.46238938, 0.53658537, 0.46238938,\n",
       "       0.46238938, 0.53658537, 0.53658537, 0.46238938, 0.53658537,\n",
       "       0.53658537, 0.53658537, 0.53658537, 0.53658537, 0.46238938,\n",
       "       0.53658537, 0.53658537, 0.46238938, 0.53658537, 0.46238938,\n",
       "       0.53658537, 0.53658537, 0.53658537, 0.53658537, 0.53658537,\n",
       "       0.53658537, 0.46238938, 0.53658537, 0.53658537, 0.46238938,\n",
       "       0.46238938, 0.53658537, 0.53658537, 0.46238938, 0.46238938,\n",
       "       0.46238938, 0.53658537, 0.53658537, 0.53658537, 0.46238938,\n",
       "       0.79591837, 0.46238938, 0.53658537, 0.46238938, 0.46238938,\n",
       "       0.46238938, 0.53658537, 0.46238938, 0.53658537, 0.46238938,\n",
       "       0.46238938, 0.46238938, 0.46238938, 0.46238938, 0.53658537,\n",
       "       0.46238938, 0.46238938, 0.46238938, 0.53658537, 0.53658537,\n",
       "       0.46238938, 0.46238938, 0.46238938, 0.53658537, 0.53658537,\n",
       "       0.46238938, 0.53658537, 0.53658537, 0.46238938, 0.46238938,\n",
       "       0.46238938, 0.53658537, 0.53658537, 0.53658537, 0.46238938,\n",
       "       0.46238938, 0.46238938, 0.53658537, 0.46238938, 0.53658537,\n",
       "       0.53658537, 0.53658537, 0.79591837, 0.53658537, 0.46238938,\n",
       "       0.53658537, 0.46238938, 0.46238938, 0.46238938, 0.53658537,\n",
       "       0.46238938, 0.46238938, 0.53658537, 0.53658537, 0.53658537,\n",
       "       0.53658537, 0.53658537, 0.53658537, 0.46238938, 0.46238938,\n",
       "       0.53658537, 0.46238938, 0.53658537, 0.53658537, 0.53658537,\n",
       "       0.53658537, 0.53658537, 0.53658537, 0.46238938, 0.53658537,\n",
       "       0.79591837, 0.53658537, 0.53658537, 0.53658537, 0.53658537,\n",
       "       0.53658537, 0.46238938, 0.53658537, 0.46238938, 0.46238938,\n",
       "       0.46238938, 0.79591837, 0.46238938, 0.46238938, 0.53658537,\n",
       "       0.46238938, 0.53658537, 0.53658537, 0.53658537, 0.53658537,\n",
       "       0.53658537, 0.46238938, 0.53658537, 0.53658537, 0.46238938,\n",
       "       0.53658537, 0.53658537, 0.46238938, 0.53658537, 0.53658537,\n",
       "       0.46238938, 0.53658537, 0.53658537, 0.46238938, 0.53658537,\n",
       "       0.46238938, 0.46238938, 0.53658537, 0.53658537, 0.53658537,\n",
       "       0.53658537, 0.79591837, 0.46238938, 0.46238938, 0.53658537,\n",
       "       0.46238938, 0.79591837, 0.46238938, 0.53658537, 0.53658537,\n",
       "       0.53658537, 0.53658537, 0.79591837, 0.46238938, 0.53658537,\n",
       "       0.53658537, 0.53658537, 0.46238938, 0.46238938, 0.53658537,\n",
       "       0.53658537, 0.53658537, 0.46238938, 0.53658537, 0.46238938,\n",
       "       0.53658537, 0.46238938, 0.46238938, 0.53658537, 0.46238938,\n",
       "       0.46238938, 0.53658537, 0.53658537, 0.79591837, 0.46238938,\n",
       "       0.46238938, 0.53658537, 0.46238938, 0.46238938, 0.53658537,\n",
       "       0.53658537, 0.53658537, 0.53658537, 0.53658537, 0.53658537,\n",
       "       0.46238938, 0.53658537, 0.53658537, 0.46238938, 0.46238938,\n",
       "       0.53658537, 0.79591837, 0.53658537, 0.46238938, 0.53658537,\n",
       "       0.46238938, 0.53658537, 0.53658537, 0.53658537, 0.53658537,\n",
       "       0.53658537, 0.46238938, 0.53658537, 0.53658537, 0.46238938,\n",
       "       0.46238938, 0.53658537, 0.14285714, 0.46238938, 0.46238938,\n",
       "       0.46238938, 0.46238938, 0.53658537, 0.53658537, 0.46238938,\n",
       "       0.53658537, 0.53658537, 0.53658537, 0.53658537, 0.79591837,\n",
       "       0.46238938, 0.53658537, 0.46238938, 0.46238938, 0.53658537,\n",
       "       0.46238938, 0.46238938, 0.53658537, 0.46238938, 0.46238938,\n",
       "       0.46238938, 0.53658537, 0.53658537, 0.46238938, 0.79591837,\n",
       "       0.53658537, 0.53658537, 0.53658537, 0.46238938, 0.53658537,\n",
       "       0.53658537, 0.46238938, 0.53658537, 0.46238938, 0.53658537,\n",
       "       0.53658537, 0.46238938, 0.46238938, 0.46238938, 0.53658537,\n",
       "       0.53658537, 0.53658537, 0.46238938, 0.53658537, 0.53658537,\n",
       "       0.46238938, 0.53658537, 0.53658537, 0.46238938, 0.79591837,\n",
       "       0.46238938, 0.53658537, 0.14285714, 0.46238938, 0.53658537,\n",
       "       0.53658537, 0.53658537, 0.46238938, 0.53658537, 0.53658537,\n",
       "       0.53658537, 0.53658537, 0.46238938, 0.53658537, 0.46238938,\n",
       "       0.79591837, 0.53658537, 0.46238938, 0.53658537, 0.53658537,\n",
       "       0.46238938, 0.46238938, 0.53658537, 0.46238938, 0.53658537,\n",
       "       0.53658537, 0.53658537, 0.53658537, 0.53658537, 0.53658537,\n",
       "       0.79591837, 0.46238938, 0.46238938, 0.46238938, 0.53658537,\n",
       "       0.46238938, 0.46238938, 0.46238938, 0.53658537, 0.53658537,\n",
       "       0.46238938, 0.53658537, 0.46238938, 0.46238938, 0.46238938,\n",
       "       0.53658537, 0.53658537, 0.46238938, 0.46238938, 0.53658537,\n",
       "       0.46238938, 0.46238938, 0.46238938, 0.53658537, 0.46238938,\n",
       "       0.46238938, 0.53658537, 0.46238938, 0.53658537, 0.46238938,\n",
       "       0.46238938, 0.79591837, 0.53658537, 0.53658537, 0.53658537,\n",
       "       0.53658537, 0.53658537, 0.46238938, 0.79591837, 0.46238938,\n",
       "       0.46238938, 0.53658537, 0.53658537, 0.53658537, 0.46238938,\n",
       "       0.53658537, 0.46238938, 0.46238938, 0.46238938, 0.53658537,\n",
       "       0.46238938, 0.46238938, 0.46238938, 0.79591837, 0.53658537,\n",
       "       0.46238938, 0.53658537, 0.46238938, 0.53658537, 0.46238938,\n",
       "       0.46238938, 0.53658537, 0.46238938, 0.46238938, 0.46238938,\n",
       "       0.46238938, 0.53658537, 0.53658537, 0.53658537, 0.46238938,\n",
       "       0.46238938, 0.46238938, 0.79591837, 0.53658537, 0.53658537,\n",
       "       0.46238938, 0.53658537, 0.53658537, 0.46238938, 0.46238938,\n",
       "       0.53658537, 0.46238938, 0.46238938, 0.53658537, 0.46238938,\n",
       "       0.53658537, 0.46238938, 0.53658537, 0.53658537, 0.46238938,\n",
       "       0.79591837, 0.46238938, 0.53658537, 0.46238938, 0.53658537,\n",
       "       0.14285714, 0.53658537, 0.46238938, 0.53658537, 0.46238938,\n",
       "       0.53658537, 0.53658537, 0.46238938, 0.46238938, 0.46238938,\n",
       "       0.53658537, 0.46238938, 0.53658537, 0.53658537, 0.79591837,\n",
       "       0.53658537, 0.46238938, 0.53658537, 0.46238938, 0.46238938,\n",
       "       0.53658537, 0.46238938, 0.53658537, 0.53658537, 0.46238938,\n",
       "       0.53658537, 0.53658537, 0.53658537, 0.53658537, 0.14285714,\n",
       "       0.46238938, 0.53658537, 0.46238938, 0.46238938, 0.46238938,\n",
       "       0.53658537, 0.46238938, 0.46238938, 0.46238938, 0.53658537,\n",
       "       0.53658537, 0.53658537, 0.46238938, 0.46238938, 0.79591837,\n",
       "       0.53658537, 0.79591837, 0.14285714, 0.53658537, 0.46238938,\n",
       "       0.53658537, 0.53658537, 0.46238938, 0.53658537, 0.53658537,\n",
       "       0.46238938, 0.46238938, 0.46238938, 0.46238938, 0.53658537,\n",
       "       0.46238938, 0.46238938, 0.79591837, 0.53658537, 0.46238938,\n",
       "       0.46238938, 0.46238938, 0.53658537, 0.53658537, 0.46238938,\n",
       "       0.53658537, 0.53658537, 0.46238938, 0.46238938, 0.46238938,\n",
       "       0.46238938, 0.46238938, 0.53658537, 0.53658537, 0.53658537,\n",
       "       0.46238938, 0.53658537, 0.53658537, 0.53658537, 0.46238938,\n",
       "       0.46238938, 0.46238938, 0.53658537, 0.46238938, 0.46238938,\n",
       "       0.46238938, 0.53658537, 0.46238938, 0.53658537, 0.46238938,\n",
       "       0.53658537, 0.53658537, 0.53658537, 0.46238938, 0.53658537,\n",
       "       0.53658537, 0.53658537, 0.53658537, 0.46238938, 0.79591837,\n",
       "       0.46238938, 0.46238938, 0.46238938, 0.53658537, 0.53658537,\n",
       "       0.53658537, 0.53658537, 0.46238938, 0.53658537, 0.46238938,\n",
       "       0.46238938, 0.53658537, 0.53658537, 0.53658537, 0.53658537,\n",
       "       0.53658537, 0.53658537, 0.46238938, 0.46238938, 0.53658537,\n",
       "       0.53658537, 0.53658537, 0.46238938, 0.46238938, 0.46238938,\n",
       "       0.46238938, 0.53658537, 0.46238938, 0.46238938, 0.53658537,\n",
       "       0.46238938, 0.53658537, 0.46238938, 0.53658537, 0.53658537,\n",
       "       0.53658537, 0.46238938, 0.53658537, 0.53658537, 0.46238938,\n",
       "       0.46238938, 0.46238938, 0.53658537, 0.46238938, 0.53658537,\n",
       "       0.46238938, 0.46238938, 0.53658537, 0.53658537, 0.14285714,\n",
       "       0.53658537, 0.53658537, 0.53658537, 0.46238938, 0.53658537,\n",
       "       0.53658537, 0.53658537, 0.53658537, 0.53658537, 0.46238938,\n",
       "       0.53658537, 0.46238938, 0.53658537, 0.46238938, 0.53658537,\n",
       "       0.46238938, 0.46238938, 0.53658537, 0.53658537, 0.53658537,\n",
       "       0.46238938, 0.53658537, 0.46238938, 0.53658537, 0.53658537,\n",
       "       0.46238938, 0.53658537, 0.53658537, 0.46238938, 0.53658537,\n",
       "       0.46238938, 0.46238938, 0.46238938, 0.46238938, 0.46238938,\n",
       "       0.53658537, 0.46238938, 0.46238938, 0.46238938, 0.46238938,\n",
       "       0.53658537, 0.46238938, 0.53658537, 0.46238938, 0.46238938,\n",
       "       0.46238938, 0.46238938, 0.79591837, 0.53658537, 0.46238938,\n",
       "       0.46238938, 0.46238938, 0.46238938, 0.53658537, 0.46238938,\n",
       "       0.46238938, 0.46238938, 0.53658537, 0.46238938, 0.46238938,\n",
       "       0.46238938, 0.53658537, 0.53658537, 0.53658537, 0.53658537,\n",
       "       0.53658537, 0.53658537, 0.46238938, 0.53658537, 0.46238938,\n",
       "       0.53658537, 0.46238938, 0.53658537, 0.79591837, 0.46238938,\n",
       "       0.46238938, 0.46238938, 0.46238938, 0.46238938, 0.46238938,\n",
       "       0.46238938, 0.46238938, 0.46238938, 0.53658537, 0.53658537,\n",
       "       0.46238938, 0.53658537, 0.79591837, 0.53658537, 0.53658537,\n",
       "       0.53658537, 0.53658537, 0.46238938, 0.46238938, 0.46238938,\n",
       "       0.46238938, 0.53658537, 0.46238938, 0.53658537, 0.46238938,\n",
       "       0.46238938, 0.79591837, 0.53658537, 0.46238938, 0.46238938,\n",
       "       0.46238938, 0.46238938, 0.46238938, 0.46238938, 0.46238938,\n",
       "       0.53658537, 0.53658537, 0.53658537, 0.46238938, 0.46238938,\n",
       "       0.53658537, 0.46238938, 0.46238938, 0.46238938, 0.46238938,\n",
       "       0.53658537, 0.46238938, 0.53658537, 0.46238938, 0.53658537,\n",
       "       0.53658537, 0.79591837, 0.53658537, 0.46238938, 0.53658537,\n",
       "       0.53658537, 0.53658537, 0.46238938, 0.53658537, 0.53658537,\n",
       "       0.46238938, 0.46238938, 0.53658537, 0.53658537, 0.46238938,\n",
       "       0.46238938, 0.46238938, 0.53658537, 0.53658537, 0.53658537,\n",
       "       0.53658537, 0.46238938, 0.53658537, 0.46238938, 0.46238938,\n",
       "       0.53658537, 0.53658537, 0.46238938, 0.53658537, 0.53658537,\n",
       "       0.53658537, 0.53658537, 0.46238938, 0.46238938, 0.46238938,\n",
       "       0.53658537, 0.46238938, 0.46238938, 0.46238938, 0.46238938,\n",
       "       0.46238938, 0.53658537, 0.53658537, 0.46238938, 0.46238938,\n",
       "       0.46238938, 0.53658537, 0.46238938, 0.46238938, 0.53658537,\n",
       "       0.53658537, 0.46238938, 0.53658537, 0.53658537, 0.46238938,\n",
       "       0.46238938, 0.46238938, 0.46238938, 0.46238938, 0.46238938,\n",
       "       0.53658537, 0.46238938, 0.46238938, 0.53658537, 0.53658537,\n",
       "       0.46238938, 0.53658537, 0.46238938, 0.46238938, 0.53658537,\n",
       "       0.46238938, 0.53658537, 0.46238938, 0.46238938, 0.53658537,\n",
       "       0.46238938, 0.53658537, 0.46238938, 0.46238938, 0.53658537,\n",
       "       0.53658537, 0.46238938, 0.46238938, 0.53658537, 0.46238938,\n",
       "       0.53658537, 0.46238938, 0.46238938, 0.46238938, 0.53658537,\n",
       "       0.53658537, 0.46238938, 0.53658537, 0.79591837, 0.53658537,\n",
       "       0.46238938, 0.53658537, 0.46238938, 0.79591837, 0.53658537,\n",
       "       0.53658537, 0.53658537, 0.53658537, 0.46238938, 0.46238938,\n",
       "       0.53658537, 0.53658537, 0.53658537, 0.53658537, 0.53658537,\n",
       "       0.79591837, 0.53658537, 0.46238938, 0.53658537, 0.46238938,\n",
       "       0.79591837, 0.46238938, 0.46238938, 0.53658537, 0.46238938,\n",
       "       0.46238938, 0.46238938, 0.46238938, 0.53658537, 0.46238938,\n",
       "       0.53658537, 0.46238938, 0.79591837, 0.46238938, 0.46238938,\n",
       "       0.53658537, 0.53658537, 0.46238938, 0.53658537, 0.79591837])"
      ]
     },
     "execution_count": 50,
     "metadata": {},
     "output_type": "execute_result"
    }
   ],
   "source": [
    "\n",
    "y_pred = regressor_loaded.predict(X)\n",
    "y_pred\n",
    " \n"
   ]
  }
 ],
 "metadata": {
  "kernelspec": {
   "display_name": "PythonData_2023_08",
   "language": "python",
   "name": "python3"
  },
  "language_info": {
   "codemirror_mode": {
    "name": "ipython",
    "version": 3
   },
   "file_extension": ".py",
   "mimetype": "text/x-python",
   "name": "python",
   "nbconvert_exporter": "python",
   "pygments_lexer": "ipython3",
   "version": "3.10.13"
  }
 },
 "nbformat": 4,
 "nbformat_minor": 2
}
